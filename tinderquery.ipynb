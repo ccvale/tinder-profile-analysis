{
 "cells": [
  {
   "cell_type": "markdown",
   "metadata": {},
   "source": [
    "## Importing libraries"
   ]
  },
  {
   "cell_type": "code",
   "execution_count": 492,
   "metadata": {},
   "outputs": [],
   "source": [
    "# https://www.codegrepper.com/code-examples/python/pandas+disable+warnings (for the report)\n",
    "import warnings\n",
    "warnings.filterwarnings('ignore')\n",
    "\n",
    "import pandas as pd\n",
    "import matplotlib.pyplot as plt\n",
    "import numpy as np"
   ]
  },
  {
   "cell_type": "markdown",
   "metadata": {},
   "source": [
    "## Loading files and data manipulation"
   ]
  },
  {
   "cell_type": "markdown",
   "metadata": {},
   "source": [
    "### Reading and cleaning the females dataset"
   ]
  },
  {
   "cell_type": "code",
   "execution_count": 493,
   "metadata": {},
   "outputs": [
    {
     "data": {
      "text/html": [
       "<div>\n",
       "<style scoped>\n",
       "    .dataframe tbody tr th:only-of-type {\n",
       "        vertical-align: middle;\n",
       "    }\n",
       "\n",
       "    .dataframe tbody tr th {\n",
       "        vertical-align: top;\n",
       "    }\n",
       "\n",
       "    .dataframe thead th {\n",
       "        text-align: right;\n",
       "    }\n",
       "</style>\n",
       "<table border=\"1\" class=\"dataframe\">\n",
       "  <thead>\n",
       "    <tr style=\"text-align: right;\">\n",
       "      <th></th>\n",
       "      <th>gender</th>\n",
       "      <th>bio</th>\n",
       "      <th>interests</th>\n",
       "      <th>anthem</th>\n",
       "      <th>prompts_replied</th>\n",
       "      <th>bio_length</th>\n",
       "    </tr>\n",
       "  </thead>\n",
       "  <tbody>\n",
       "    <tr>\n",
       "      <th>0</th>\n",
       "      <td>Female</td>\n",
       "      <td>Instagram- leonor_ortizzz</td>\n",
       "      <td>[Coffee, Activism, Foodie, Music, Movies]</td>\n",
       "      <td></td>\n",
       "      <td>0</td>\n",
       "      <td>27</td>\n",
       "    </tr>\n",
       "    <tr>\n",
       "      <th>1</th>\n",
       "      <td>Female</td>\n",
       "      <td>lover of avocados, coconuts, and one too many ...</td>\n",
       "      <td>[Fashion, Karaoke, Museum, Brunch, Volunteering]</td>\n",
       "      <td>Hip Hop/Rap</td>\n",
       "      <td>1</td>\n",
       "      <td>60</td>\n",
       "    </tr>\n",
       "    <tr>\n",
       "      <th>2</th>\n",
       "      <td>Female</td>\n",
       "      <td>mommy issue haver costco hotdog enthusiast goo...</td>\n",
       "      <td>[Foodie, Music, Karaoke, Dog lover, Comedy]</td>\n",
       "      <td>Hip Hop/Rap</td>\n",
       "      <td>3</td>\n",
       "      <td>63</td>\n",
       "    </tr>\n",
       "    <tr>\n",
       "      <th>3</th>\n",
       "      <td>Female</td>\n",
       "      <td>Follow my new insta page: angelisse_req Im 18 ...</td>\n",
       "      <td>[Foodie, Tattoos, Sports, Astrology, Spiritual...</td>\n",
       "      <td>Indie</td>\n",
       "      <td>0</td>\n",
       "      <td>75</td>\n",
       "    </tr>\n",
       "    <tr>\n",
       "      <th>4</th>\n",
       "      <td>Female</td>\n",
       "      <td>they/she. from bushwick, and 420 friendly. :) ...</td>\n",
       "      <td>[Photography, Black Lives Matter, Movies, Musi...</td>\n",
       "      <td>Pop</td>\n",
       "      <td>2</td>\n",
       "      <td>112</td>\n",
       "    </tr>\n",
       "  </tbody>\n",
       "</table>\n",
       "</div>"
      ],
      "text/plain": [
       "   gender                                                bio  \\\n",
       "0  Female                          Instagram- leonor_ortizzz   \n",
       "1  Female  lover of avocados, coconuts, and one too many ...   \n",
       "2  Female  mommy issue haver costco hotdog enthusiast goo...   \n",
       "3  Female  Follow my new insta page: angelisse_req Im 18 ...   \n",
       "4  Female  they/she. from bushwick, and 420 friendly. :) ...   \n",
       "\n",
       "                                           interests       anthem  \\\n",
       "0          [Coffee, Activism, Foodie, Music, Movies]                \n",
       "1   [Fashion, Karaoke, Museum, Brunch, Volunteering]  Hip Hop/Rap   \n",
       "2        [Foodie, Music, Karaoke, Dog lover, Comedy]  Hip Hop/Rap   \n",
       "3  [Foodie, Tattoos, Sports, Astrology, Spiritual...        Indie   \n",
       "4  [Photography, Black Lives Matter, Movies, Musi...          Pop   \n",
       "\n",
       "   prompts_replied  bio_length  \n",
       "0                0          27  \n",
       "1                1          60  \n",
       "2                3          63  \n",
       "3                0          75  \n",
       "4                2         112  "
      ]
     },
     "execution_count": 493,
     "metadata": {},
     "output_type": "execute_result"
    }
   ],
   "source": [
    "# reading and cleaning the females dataset\n",
    "females = pd.read_json('females.json')\n",
    "\n",
    "# https://stackoverflow.com/questions/62343093/remove-empty-string-from-a-list-of-strings\n",
    "females['prompts_replied'] = [len(list(filter(None, sublist))) for sublist in females['prompts']]\n",
    "females = females.drop(['id', 'prompts'], 1)\n",
    "\n",
    "females['gender'] = 'Female'\n",
    "\n",
    "females['bio_length'] = females['bio'].str.split('').str.len()\n",
    "females['bio_length'] = females['bio_length'].replace('', 0).astype('int')\n",
    "females['bio_length'][females.bio_length == 2] = 0\n",
    "\n",
    "females.head()"
   ]
  },
  {
   "cell_type": "markdown",
   "metadata": {},
   "source": [
    "### Reading and cleaning the males dataset"
   ]
  },
  {
   "cell_type": "code",
   "execution_count": 494,
   "metadata": {},
   "outputs": [
    {
     "data": {
      "text/html": [
       "<div>\n",
       "<style scoped>\n",
       "    .dataframe tbody tr th:only-of-type {\n",
       "        vertical-align: middle;\n",
       "    }\n",
       "\n",
       "    .dataframe tbody tr th {\n",
       "        vertical-align: top;\n",
       "    }\n",
       "\n",
       "    .dataframe thead th {\n",
       "        text-align: right;\n",
       "    }\n",
       "</style>\n",
       "<table border=\"1\" class=\"dataframe\">\n",
       "  <thead>\n",
       "    <tr style=\"text-align: right;\">\n",
       "      <th></th>\n",
       "      <th>gender</th>\n",
       "      <th>bio</th>\n",
       "      <th>interests</th>\n",
       "      <th>anthem</th>\n",
       "      <th>prompts_replied</th>\n",
       "      <th>bio_length</th>\n",
       "    </tr>\n",
       "  </thead>\n",
       "  <tbody>\n",
       "    <tr>\n",
       "      <th>0</th>\n",
       "      <td>Male</td>\n",
       "      <td>Jmu baseball  26 Don Bosco Prep 22</td>\n",
       "      <td>[Working out]</td>\n",
       "      <td></td>\n",
       "      <td>0</td>\n",
       "      <td>36</td>\n",
       "    </tr>\n",
       "    <tr>\n",
       "      <th>1</th>\n",
       "      <td>Male</td>\n",
       "      <td></td>\n",
       "      <td>[Outdoors, Netflix, Comedy, Hiking]</td>\n",
       "      <td></td>\n",
       "      <td>0</td>\n",
       "      <td>0</td>\n",
       "    </tr>\n",
       "    <tr>\n",
       "      <th>2</th>\n",
       "      <td>Male</td>\n",
       "      <td></td>\n",
       "      <td>[Movies, Tattoos, Working out, Music, Sports]</td>\n",
       "      <td></td>\n",
       "      <td>3</td>\n",
       "      <td>0</td>\n",
       "    </tr>\n",
       "    <tr>\n",
       "      <th>3</th>\n",
       "      <td>Male</td>\n",
       "      <td>I workout in the morning so the rest of the da...</td>\n",
       "      <td>[Travel, Music, Working out]</td>\n",
       "      <td>Hip Hop/Rap</td>\n",
       "      <td>0</td>\n",
       "      <td>114</td>\n",
       "    </tr>\n",
       "    <tr>\n",
       "      <th>4</th>\n",
       "      <td>Male</td>\n",
       "      <td></td>\n",
       "      <td>[Coffee]</td>\n",
       "      <td></td>\n",
       "      <td>0</td>\n",
       "      <td>0</td>\n",
       "    </tr>\n",
       "  </tbody>\n",
       "</table>\n",
       "</div>"
      ],
      "text/plain": [
       "  gender                                                bio  \\\n",
       "0   Male                 Jmu baseball  26 Don Bosco Prep 22   \n",
       "1   Male                                                      \n",
       "2   Male                                                      \n",
       "3   Male  I workout in the morning so the rest of the da...   \n",
       "4   Male                                                      \n",
       "\n",
       "                                       interests       anthem  \\\n",
       "0                                  [Working out]                \n",
       "1            [Outdoors, Netflix, Comedy, Hiking]                \n",
       "2  [Movies, Tattoos, Working out, Music, Sports]                \n",
       "3                   [Travel, Music, Working out]  Hip Hop/Rap   \n",
       "4                                       [Coffee]                \n",
       "\n",
       "   prompts_replied  bio_length  \n",
       "0                0          36  \n",
       "1                0           0  \n",
       "2                3           0  \n",
       "3                0         114  \n",
       "4                0           0  "
      ]
     },
     "execution_count": 494,
     "metadata": {},
     "output_type": "execute_result"
    }
   ],
   "source": [
    "males = pd.read_json('males.json')\n",
    "\n",
    "# https://stackoverflow.com/questions/62343093/remove-empty-string-from-a-list-of-strings\n",
    "males['prompts_replied'] = [len(list(filter(None, sublist))) for sublist in males['prompts']]\n",
    "\n",
    "males = males.drop(['id', 'prompts'], 1)\n",
    "\n",
    "males['gender'] = 'Male'\n",
    "\n",
    "males['bio_length'] = males['bio'].str.split('').str.len()\n",
    "males['bio_length'] = males['bio_length'].replace('', 0).astype('int')\n",
    "\n",
    "males['bio_length'][males.bio_length == 2] = 0\n",
    "\n",
    "males.head()"
   ]
  },
  {
   "cell_type": "markdown",
   "metadata": {},
   "source": [
    "### Combining both dataframes, and further cleaning"
   ]
  },
  {
   "cell_type": "code",
   "execution_count": 495,
   "metadata": {},
   "outputs": [
    {
     "data": {
      "text/html": [
       "<div>\n",
       "<style scoped>\n",
       "    .dataframe tbody tr th:only-of-type {\n",
       "        vertical-align: middle;\n",
       "    }\n",
       "\n",
       "    .dataframe tbody tr th {\n",
       "        vertical-align: top;\n",
       "    }\n",
       "\n",
       "    .dataframe thead th {\n",
       "        text-align: right;\n",
       "    }\n",
       "</style>\n",
       "<table border=\"1\" class=\"dataframe\">\n",
       "  <thead>\n",
       "    <tr style=\"text-align: right;\">\n",
       "      <th></th>\n",
       "      <th>gender</th>\n",
       "      <th>bio</th>\n",
       "      <th>interests</th>\n",
       "      <th>anthem</th>\n",
       "      <th>prompts_replied</th>\n",
       "      <th>bio_length</th>\n",
       "      <th>num_interests</th>\n",
       "    </tr>\n",
       "  </thead>\n",
       "  <tbody>\n",
       "    <tr>\n",
       "      <th>0</th>\n",
       "      <td>Female</td>\n",
       "      <td>Instagram- leonor_ortizzz</td>\n",
       "      <td>[Coffee, Activism, Foodie, Music, Movies]</td>\n",
       "      <td>NaN</td>\n",
       "      <td>0</td>\n",
       "      <td>27</td>\n",
       "      <td>5</td>\n",
       "    </tr>\n",
       "    <tr>\n",
       "      <th>1</th>\n",
       "      <td>Female</td>\n",
       "      <td>lover of avocados, coconuts, and one too many ...</td>\n",
       "      <td>[Fashion, Karaoke, Museum, Brunch, Volunteering]</td>\n",
       "      <td>Hip Hop/Rap</td>\n",
       "      <td>1</td>\n",
       "      <td>60</td>\n",
       "      <td>5</td>\n",
       "    </tr>\n",
       "    <tr>\n",
       "      <th>2</th>\n",
       "      <td>Female</td>\n",
       "      <td>mommy issue haver costco hotdog enthusiast goo...</td>\n",
       "      <td>[Foodie, Music, Karaoke, Dog lover, Comedy]</td>\n",
       "      <td>Hip Hop/Rap</td>\n",
       "      <td>3</td>\n",
       "      <td>63</td>\n",
       "      <td>5</td>\n",
       "    </tr>\n",
       "    <tr>\n",
       "      <th>3</th>\n",
       "      <td>Female</td>\n",
       "      <td>Follow my new insta page: angelisse_req Im 18 ...</td>\n",
       "      <td>[Foodie, Tattoos, Sports, Astrology, Spiritual...</td>\n",
       "      <td>Indie</td>\n",
       "      <td>0</td>\n",
       "      <td>75</td>\n",
       "      <td>5</td>\n",
       "    </tr>\n",
       "    <tr>\n",
       "      <th>4</th>\n",
       "      <td>Female</td>\n",
       "      <td>they/she. from bushwick, and 420 friendly. :) ...</td>\n",
       "      <td>[Photography, Black Lives Matter, Movies, Musi...</td>\n",
       "      <td>Pop</td>\n",
       "      <td>2</td>\n",
       "      <td>112</td>\n",
       "      <td>5</td>\n",
       "    </tr>\n",
       "    <tr>\n",
       "      <th>...</th>\n",
       "      <td>...</td>\n",
       "      <td>...</td>\n",
       "      <td>...</td>\n",
       "      <td>...</td>\n",
       "      <td>...</td>\n",
       "      <td>...</td>\n",
       "      <td>...</td>\n",
       "    </tr>\n",
       "    <tr>\n",
       "      <th>45</th>\n",
       "      <td>Male</td>\n",
       "      <td>NaN</td>\n",
       "      <td>[Reading, Sports, Movies]</td>\n",
       "      <td>NaN</td>\n",
       "      <td>0</td>\n",
       "      <td>0</td>\n",
       "      <td>3</td>\n",
       "    </tr>\n",
       "    <tr>\n",
       "      <th>46</th>\n",
       "      <td>Male</td>\n",
       "      <td>NaN</td>\n",
       "      <td>[Surfing, Tattoos, Stocks, Yoga, Ramen]</td>\n",
       "      <td>NaN</td>\n",
       "      <td>3</td>\n",
       "      <td>0</td>\n",
       "      <td>5</td>\n",
       "    </tr>\n",
       "    <tr>\n",
       "      <th>47</th>\n",
       "      <td>Male</td>\n",
       "      <td>Best Dad in the world</td>\n",
       "      <td>[Netflix, Travel, Hiking, Fishing]</td>\n",
       "      <td>NaN</td>\n",
       "      <td>0</td>\n",
       "      <td>23</td>\n",
       "      <td>4</td>\n",
       "    </tr>\n",
       "    <tr>\n",
       "      <th>48</th>\n",
       "      <td>Male</td>\n",
       "      <td>Chubby Dude lifting Chubby Weights Seeking: -V...</td>\n",
       "      <td>[Mental Heath Awareness, Working out, Dungeons...</td>\n",
       "      <td>Country</td>\n",
       "      <td>2</td>\n",
       "      <td>330</td>\n",
       "      <td>5</td>\n",
       "    </tr>\n",
       "    <tr>\n",
       "      <th>49</th>\n",
       "      <td>Male</td>\n",
       "      <td>Dating me is like going to a hibachi restauran...</td>\n",
       "      <td>[Movies, Reading, Cooking, Music]</td>\n",
       "      <td>NaN</td>\n",
       "      <td>0</td>\n",
       "      <td>114</td>\n",
       "      <td>4</td>\n",
       "    </tr>\n",
       "  </tbody>\n",
       "</table>\n",
       "<p>100 rows × 7 columns</p>\n",
       "</div>"
      ],
      "text/plain": [
       "    gender                                                bio  \\\n",
       "0   Female                          Instagram- leonor_ortizzz   \n",
       "1   Female  lover of avocados, coconuts, and one too many ...   \n",
       "2   Female  mommy issue haver costco hotdog enthusiast goo...   \n",
       "3   Female  Follow my new insta page: angelisse_req Im 18 ...   \n",
       "4   Female  they/she. from bushwick, and 420 friendly. :) ...   \n",
       "..     ...                                                ...   \n",
       "45    Male                                                NaN   \n",
       "46    Male                                                NaN   \n",
       "47    Male                              Best Dad in the world   \n",
       "48    Male  Chubby Dude lifting Chubby Weights Seeking: -V...   \n",
       "49    Male  Dating me is like going to a hibachi restauran...   \n",
       "\n",
       "                                            interests       anthem  \\\n",
       "0           [Coffee, Activism, Foodie, Music, Movies]          NaN   \n",
       "1    [Fashion, Karaoke, Museum, Brunch, Volunteering]  Hip Hop/Rap   \n",
       "2         [Foodie, Music, Karaoke, Dog lover, Comedy]  Hip Hop/Rap   \n",
       "3   [Foodie, Tattoos, Sports, Astrology, Spiritual...        Indie   \n",
       "4   [Photography, Black Lives Matter, Movies, Musi...          Pop   \n",
       "..                                                ...          ...   \n",
       "45                          [Reading, Sports, Movies]          NaN   \n",
       "46            [Surfing, Tattoos, Stocks, Yoga, Ramen]          NaN   \n",
       "47                 [Netflix, Travel, Hiking, Fishing]          NaN   \n",
       "48  [Mental Heath Awareness, Working out, Dungeons...      Country   \n",
       "49                  [Movies, Reading, Cooking, Music]          NaN   \n",
       "\n",
       "    prompts_replied  bio_length  num_interests  \n",
       "0                 0          27              5  \n",
       "1                 1          60              5  \n",
       "2                 3          63              5  \n",
       "3                 0          75              5  \n",
       "4                 2         112              5  \n",
       "..              ...         ...            ...  \n",
       "45                0           0              3  \n",
       "46                3           0              5  \n",
       "47                0          23              4  \n",
       "48                2         330              5  \n",
       "49                0         114              4  \n",
       "\n",
       "[100 rows x 7 columns]"
      ]
     },
     "execution_count": 495,
     "metadata": {},
     "output_type": "execute_result"
    }
   ],
   "source": [
    "# joining male and female datasets\n",
    "profiles = females.append(males)\n",
    "profiles = profiles.replace('',np.nan)\n",
    "\n",
    "profiles['num_interests'] = profiles['interests'].str.len()\n",
    "profiles['num_interests'] = profiles['num_interests'].replace(np.nan, 0)\n",
    "profiles['num_interests'] = profiles['num_interests'].astype('int')\n",
    "\n",
    "profiles"
   ]
  },
  {
   "cell_type": "markdown",
   "metadata": {},
   "source": [
    "We ultimately chose to clean both male and female datasets seperately and then join them afterwards because when we realized that our data was already naturally faceted by gender, it was a lot easier for us to make conclusions based on the datasets seperately, as well as with them merged together as well. "
   ]
  },
  {
   "cell_type": "markdown",
   "metadata": {},
   "source": [
    "## Ascertaining information about most common interests"
   ]
  },
  {
   "cell_type": "code",
   "execution_count": 496,
   "metadata": {},
   "outputs": [],
   "source": [
    "from collections import Counter\n",
    "\n",
    "def getMostCommonInterest(df):\n",
    "    '''finding the most common interest for both genders'''\n",
    "    interests = []\n",
    "    for profile_interest_list in df.interests:\n",
    "        interests += profile_interest_list\n",
    "    c = Counter(interests)\n",
    "    return c.most_common(5)\n",
    "\n",
    "def generatePie(df):\n",
    "    '''reusing code to plot a pie chart with a given dataframe and burst tuple for effects'''\n",
    "    plot = getMostCommonInterest(df)\n",
    "    ndf = pd.DataFrame(plot, columns=['Interest', 'Frequency'])\n",
    "\n",
    "    plt.pie(ndf['Frequency'],labels=ndf['Interest'], explode=(0.1, 0, 0, 0, 0), shadow=True, autopct='%1.1f%%', startangle=90)\n",
    "    plt.axis('equal')\n",
    "    plt.show()\n"
   ]
  },
  {
   "cell_type": "markdown",
   "metadata": {},
   "source": [
    "### Plotting top 5 most common interests among female profiles"
   ]
  },
  {
   "cell_type": "code",
   "execution_count": 497,
   "metadata": {},
   "outputs": [
    {
     "data": {
      "image/png": "[encoded data removed]",
      "text/plain": [
       "<Figure size 432x288 with 1 Axes>"
      ]
     },
     "metadata": {},
     "output_type": "display_data"
    }
   ],
   "source": [
    "generatePie(females)\n"
   ]
  },
  {
   "cell_type": "markdown",
   "metadata": {},
   "source": [
    "### Plotting top 5 most common interests among male profiles"
   ]
  },
  {
   "cell_type": "code",
   "execution_count": 498,
   "metadata": {},
   "outputs": [
    {
     "data": {
      "image/png": "[encoded data removed]",
      "text/plain": [
       "<Figure size 432x288 with 1 Axes>"
      ]
     },
     "metadata": {},
     "output_type": "display_data"
    }
   ],
   "source": [
    "generatePie(males)"
   ]
  },
  {
   "cell_type": "markdown",
   "metadata": {},
   "source": [
    "### Plotting top 5 most common interests among all profiles"
   ]
  },
  {
   "cell_type": "code",
   "execution_count": 499,
   "metadata": {},
   "outputs": [
    {
     "data": {
      "image/png": "[encoded data removed]",
      "text/plain": [
       "<Figure size 432x288 with 1 Axes>"
      ]
     },
     "metadata": {},
     "output_type": "display_data"
    }
   ],
   "source": [
    "generatePie(profiles)"
   ]
  },
  {
   "cell_type": "code",
   "execution_count": 500,
   "metadata": {},
   "outputs": [
    {
     "data": {
      "image/png": "[encoded data removed]",
      "text/plain": [
       "<Figure size 432x288 with 1 Axes>"
      ]
     },
     "metadata": {},
     "output_type": "display_data"
    }
   ],
   "source": [
    "generatePie(females)"
   ]
  },
  {
   "cell_type": "markdown",
   "metadata": {},
   "source": [
    "## Ascertaining information about those who chose to fill out the optional prompts"
   ]
  },
  {
   "cell_type": "markdown",
   "metadata": {},
   "source": [
    "### For males"
   ]
  },
  {
   "cell_type": "code",
   "execution_count": 501,
   "metadata": {},
   "outputs": [
    {
     "data": {
      "text/plain": [
       "0    31\n",
       "3     8\n",
       "2     7\n",
       "1     4\n",
       "Name: prompts_replied, dtype: int64"
      ]
     },
     "execution_count": 501,
     "metadata": {},
     "output_type": "execute_result"
    }
   ],
   "source": [
    "'''We want to show the count of people with 3, 2, 1, and 0 answers, and then graph them'''\n",
    "males.prompts_replied.value_counts()"
   ]
  },
  {
   "cell_type": "code",
   "execution_count": 502,
   "metadata": {},
   "outputs": [
    {
     "data": {
      "text/plain": [
       "<AxesSubplot:>"
      ]
     },
     "execution_count": 502,
     "metadata": {},
     "output_type": "execute_result"
    },
    {
     "data": {
      "image/png": "[encoded data removed]",
      "text/plain": [
       "<Figure size 432x288 with 1 Axes>"
      ]
     },
     "metadata": {
      "needs_background": "light"
     },
     "output_type": "display_data"
    }
   ],
   "source": [
    "'''and then plot them (neaten it up)'''\n",
    "males['prompts_replied'].value_counts().plot(kind='bar')"
   ]
  },
  {
   "cell_type": "markdown",
   "metadata": {},
   "source": [
    "### For females"
   ]
  },
  {
   "cell_type": "code",
   "execution_count": 503,
   "metadata": {},
   "outputs": [
    {
     "data": {
      "text/plain": [
       "0    23\n",
       "2    10\n",
       "3     9\n",
       "1     8\n",
       "Name: prompts_replied, dtype: int64"
      ]
     },
     "execution_count": 503,
     "metadata": {},
     "output_type": "execute_result"
    }
   ],
   "source": [
    "'''We want to show the count of people with 3, 2, 1, and 0 answers, and then graph them'''\n",
    "females.prompts_replied.value_counts()"
   ]
  },
  {
   "cell_type": "code",
   "execution_count": 504,
   "metadata": {},
   "outputs": [
    {
     "data": {
      "text/plain": [
       "<AxesSubplot:>"
      ]
     },
     "execution_count": 504,
     "metadata": {},
     "output_type": "execute_result"
    },
    {
     "data": {
      "image/png": "[encoded data removed]",
      "text/plain": [
       "<Figure size 432x288 with 1 Axes>"
      ]
     },
     "metadata": {
      "needs_background": "light"
     },
     "output_type": "display_data"
    }
   ],
   "source": [
    "'''and then plot them (neaten it up)'''\n",
    "females['prompts_replied'].value_counts().plot(kind='bar')"
   ]
  },
  {
   "cell_type": "markdown",
   "metadata": {},
   "source": [
    "### For both male and females combined"
   ]
  },
  {
   "cell_type": "code",
   "execution_count": 505,
   "metadata": {},
   "outputs": [
    {
     "data": {
      "text/plain": [
       "0    54\n",
       "3    17\n",
       "2    17\n",
       "1    12\n",
       "Name: prompts_replied, dtype: int64"
      ]
     },
     "execution_count": 505,
     "metadata": {},
     "output_type": "execute_result"
    }
   ],
   "source": [
    "'''We want to show the count of people with 3, 2, 1, and 0 answers, and then graph them'''\n",
    "profiles.prompts_replied.value_counts()"
   ]
  },
  {
   "cell_type": "code",
   "execution_count": 506,
   "metadata": {},
   "outputs": [
    {
     "data": {
      "text/plain": [
       "<AxesSubplot:>"
      ]
     },
     "execution_count": 506,
     "metadata": {},
     "output_type": "execute_result"
    },
    {
     "data": {
      "image/png": "[encoded data removed]",
      "text/plain": [
       "<Figure size 432x288 with 1 Axes>"
      ]
     },
     "metadata": {
      "needs_background": "light"
     },
     "output_type": "display_data"
    }
   ],
   "source": [
    "'''and then plot them (neaten it up)'''\n",
    "profiles['prompts_replied'].value_counts().plot(kind='bar')"
   ]
  },
  {
   "cell_type": "markdown",
   "metadata": {},
   "source": [
    "## Ascertaining information about bio length"
   ]
  },
  {
   "cell_type": "markdown",
   "metadata": {},
   "source": [
    "### The average bio length for a female profile based on our dataframe"
   ]
  },
  {
   "cell_type": "code",
   "execution_count": 507,
   "metadata": {},
   "outputs": [
    {
     "data": {
      "text/plain": [
       "53.2"
      ]
     },
     "execution_count": 507,
     "metadata": {},
     "output_type": "execute_result"
    }
   ],
   "source": [
    "females.bio_length.mean()"
   ]
  },
  {
   "cell_type": "markdown",
   "metadata": {},
   "source": [
    "### The average bio length for a male profile based on our dataframe"
   ]
  },
  {
   "cell_type": "code",
   "execution_count": 508,
   "metadata": {},
   "outputs": [
    {
     "data": {
      "text/plain": [
       "49.32"
      ]
     },
     "execution_count": 508,
     "metadata": {},
     "output_type": "execute_result"
    }
   ],
   "source": [
    "males.bio_length.mean()"
   ]
  },
  {
   "cell_type": "markdown",
   "metadata": {},
   "source": [
    "### The average bio length for any profile based on our dataframe"
   ]
  },
  {
   "cell_type": "code",
   "execution_count": 509,
   "metadata": {},
   "outputs": [
    {
     "data": {
      "text/plain": [
       "51.26"
      ]
     },
     "execution_count": 509,
     "metadata": {},
     "output_type": "execute_result"
    }
   ],
   "source": [
    "profiles.bio_length.mean()"
   ]
  },
  {
   "cell_type": "markdown",
   "metadata": {},
   "source": [
    "### Outliers (i): - largest bio length in the collection -"
   ]
  },
  {
   "cell_type": "code",
   "execution_count": 510,
   "metadata": {},
   "outputs": [
    {
     "data": {
      "text/plain": [
       "330"
      ]
     },
     "execution_count": 510,
     "metadata": {},
     "output_type": "execute_result"
    }
   ],
   "source": [
    "# get largest bio length\n",
    "profiles.bio_length.max()"
   ]
  },
  {
   "cell_type": "markdown",
   "metadata": {},
   "source": [
    "#### Outliers (i): - Who is our outlier? -"
   ]
  },
  {
   "cell_type": "code",
   "execution_count": 511,
   "metadata": {},
   "outputs": [
    {
     "data": {
      "text/html": [
       "<div>\n",
       "<style scoped>\n",
       "    .dataframe tbody tr th:only-of-type {\n",
       "        vertical-align: middle;\n",
       "    }\n",
       "\n",
       "    .dataframe tbody tr th {\n",
       "        vertical-align: top;\n",
       "    }\n",
       "\n",
       "    .dataframe thead th {\n",
       "        text-align: right;\n",
       "    }\n",
       "</style>\n",
       "<table border=\"1\" class=\"dataframe\">\n",
       "  <thead>\n",
       "    <tr style=\"text-align: right;\">\n",
       "      <th></th>\n",
       "      <th>gender</th>\n",
       "      <th>bio</th>\n",
       "      <th>interests</th>\n",
       "      <th>anthem</th>\n",
       "      <th>prompts_replied</th>\n",
       "      <th>bio_length</th>\n",
       "      <th>num_interests</th>\n",
       "    </tr>\n",
       "  </thead>\n",
       "  <tbody>\n",
       "    <tr>\n",
       "      <th>48</th>\n",
       "      <td>Male</td>\n",
       "      <td>Chubby Dude lifting Chubby Weights Seeking: -V...</td>\n",
       "      <td>[Mental Heath Awareness, Working out, Dungeons...</td>\n",
       "      <td>Country</td>\n",
       "      <td>2</td>\n",
       "      <td>330</td>\n",
       "      <td>5</td>\n",
       "    </tr>\n",
       "  </tbody>\n",
       "</table>\n",
       "</div>"
      ],
      "text/plain": [
       "   gender                                                bio  \\\n",
       "48   Male  Chubby Dude lifting Chubby Weights Seeking: -V...   \n",
       "\n",
       "                                            interests   anthem  \\\n",
       "48  [Mental Heath Awareness, Working out, Dungeons...  Country   \n",
       "\n",
       "    prompts_replied  bio_length  num_interests  \n",
       "48                2         330              5  "
      ]
     },
     "execution_count": 511,
     "metadata": {},
     "output_type": "execute_result"
    }
   ],
   "source": [
    "profiles[profiles.bio_length == profiles.bio_length.max()]"
   ]
  },
  {
   "cell_type": "markdown",
   "metadata": {},
   "source": [
    "#### Outliers (i): - smallest bio length in the collection -"
   ]
  },
  {
   "cell_type": "code",
   "execution_count": 512,
   "metadata": {},
   "outputs": [
    {
     "data": {
      "text/plain": [
       "0"
      ]
     },
     "execution_count": 512,
     "metadata": {},
     "output_type": "execute_result"
    }
   ],
   "source": [
    "# get smallest bio length\n",
    "profiles.bio_length.min()"
   ]
  },
  {
   "cell_type": "markdown",
   "metadata": {},
   "source": [
    "#### Outliers (ii): - Who is our outlier? -"
   ]
  },
  {
   "cell_type": "markdown",
   "metadata": {},
   "source": [
    "Well, we have had many profiles end up being 0, so we're going to go further into it and find out who is more likely to have an empty bio."
   ]
  },
  {
   "cell_type": "code",
   "execution_count": 513,
   "metadata": {},
   "outputs": [
    {
     "data": {
      "text/html": [
       "<div>\n",
       "<style scoped>\n",
       "    .dataframe tbody tr th:only-of-type {\n",
       "        vertical-align: middle;\n",
       "    }\n",
       "\n",
       "    .dataframe tbody tr th {\n",
       "        vertical-align: top;\n",
       "    }\n",
       "\n",
       "    .dataframe thead th {\n",
       "        text-align: right;\n",
       "    }\n",
       "</style>\n",
       "<table border=\"1\" class=\"dataframe\">\n",
       "  <thead>\n",
       "    <tr style=\"text-align: right;\">\n",
       "      <th></th>\n",
       "      <th>gender</th>\n",
       "      <th>bio</th>\n",
       "      <th>interests</th>\n",
       "      <th>anthem</th>\n",
       "      <th>prompts_replied</th>\n",
       "      <th>bio_length</th>\n",
       "      <th>num_interests</th>\n",
       "    </tr>\n",
       "  </thead>\n",
       "  <tbody>\n",
       "    <tr>\n",
       "      <th>7</th>\n",
       "      <td>Female</td>\n",
       "      <td>NaN</td>\n",
       "      <td>[Sports, Dog lover, Athlete, Working out, Movies]</td>\n",
       "      <td>Indie</td>\n",
       "      <td>0</td>\n",
       "      <td>0</td>\n",
       "      <td>5</td>\n",
       "    </tr>\n",
       "    <tr>\n",
       "      <th>11</th>\n",
       "      <td>Female</td>\n",
       "      <td>NaN</td>\n",
       "      <td>[Walking, Travel, Movies, Coffee, Netflix]</td>\n",
       "      <td>Pop</td>\n",
       "      <td>3</td>\n",
       "      <td>0</td>\n",
       "      <td>5</td>\n",
       "    </tr>\n",
       "    <tr>\n",
       "      <th>16</th>\n",
       "      <td>Female</td>\n",
       "      <td>NaN</td>\n",
       "      <td>[Mental Health Awareness, Coffee, Working out,...</td>\n",
       "      <td>NaN</td>\n",
       "      <td>0</td>\n",
       "      <td>0</td>\n",
       "      <td>5</td>\n",
       "    </tr>\n",
       "    <tr>\n",
       "      <th>20</th>\n",
       "      <td>Female</td>\n",
       "      <td>NaN</td>\n",
       "      <td>[Cat lover, Second-hand apparel, Climate Chang...</td>\n",
       "      <td>Pop</td>\n",
       "      <td>0</td>\n",
       "      <td>0</td>\n",
       "      <td>5</td>\n",
       "    </tr>\n",
       "    <tr>\n",
       "      <th>23</th>\n",
       "      <td>Female</td>\n",
       "      <td>NaN</td>\n",
       "      <td>[Working out, Spirituality, Astrology, Languag...</td>\n",
       "      <td>NaN</td>\n",
       "      <td>1</td>\n",
       "      <td>0</td>\n",
       "      <td>5</td>\n",
       "    </tr>\n",
       "    <tr>\n",
       "      <th>26</th>\n",
       "      <td>Female</td>\n",
       "      <td>NaN</td>\n",
       "      <td>[]</td>\n",
       "      <td>R&amp;B</td>\n",
       "      <td>0</td>\n",
       "      <td>0</td>\n",
       "      <td>0</td>\n",
       "    </tr>\n",
       "    <tr>\n",
       "      <th>28</th>\n",
       "      <td>Female</td>\n",
       "      <td>NaN</td>\n",
       "      <td>[Grab a drink, Working out, Dog lover]</td>\n",
       "      <td>NaN</td>\n",
       "      <td>0</td>\n",
       "      <td>0</td>\n",
       "      <td>3</td>\n",
       "    </tr>\n",
       "    <tr>\n",
       "      <th>31</th>\n",
       "      <td>Female</td>\n",
       "      <td>NaN</td>\n",
       "      <td>[Fashion]</td>\n",
       "      <td>NaN</td>\n",
       "      <td>1</td>\n",
       "      <td>0</td>\n",
       "      <td>1</td>\n",
       "    </tr>\n",
       "    <tr>\n",
       "      <th>35</th>\n",
       "      <td>Female</td>\n",
       "      <td>NaN</td>\n",
       "      <td>[Baking, Fashion, Cooking, Art, Music]</td>\n",
       "      <td>Hip Hop/Rap</td>\n",
       "      <td>0</td>\n",
       "      <td>0</td>\n",
       "      <td>5</td>\n",
       "    </tr>\n",
       "    <tr>\n",
       "      <th>39</th>\n",
       "      <td>Female</td>\n",
       "      <td>NaN</td>\n",
       "      <td>[Art, Dog lover, Voter Rights]</td>\n",
       "      <td>Indie</td>\n",
       "      <td>0</td>\n",
       "      <td>0</td>\n",
       "      <td>3</td>\n",
       "    </tr>\n",
       "    <tr>\n",
       "      <th>49</th>\n",
       "      <td>Female</td>\n",
       "      <td>NaN</td>\n",
       "      <td>[Walking, Language Exchange, Art, Music]</td>\n",
       "      <td>Country</td>\n",
       "      <td>0</td>\n",
       "      <td>0</td>\n",
       "      <td>4</td>\n",
       "    </tr>\n",
       "    <tr>\n",
       "      <th>1</th>\n",
       "      <td>Male</td>\n",
       "      <td>NaN</td>\n",
       "      <td>[Outdoors, Netflix, Comedy, Hiking]</td>\n",
       "      <td>NaN</td>\n",
       "      <td>0</td>\n",
       "      <td>0</td>\n",
       "      <td>4</td>\n",
       "    </tr>\n",
       "    <tr>\n",
       "      <th>2</th>\n",
       "      <td>Male</td>\n",
       "      <td>NaN</td>\n",
       "      <td>[Movies, Tattoos, Working out, Music, Sports]</td>\n",
       "      <td>NaN</td>\n",
       "      <td>3</td>\n",
       "      <td>0</td>\n",
       "      <td>5</td>\n",
       "    </tr>\n",
       "    <tr>\n",
       "      <th>4</th>\n",
       "      <td>Male</td>\n",
       "      <td>NaN</td>\n",
       "      <td>[Coffee]</td>\n",
       "      <td>NaN</td>\n",
       "      <td>0</td>\n",
       "      <td>0</td>\n",
       "      <td>1</td>\n",
       "    </tr>\n",
       "    <tr>\n",
       "      <th>6</th>\n",
       "      <td>Male</td>\n",
       "      <td>NaN</td>\n",
       "      <td>[]</td>\n",
       "      <td>NaN</td>\n",
       "      <td>0</td>\n",
       "      <td>0</td>\n",
       "      <td>0</td>\n",
       "    </tr>\n",
       "    <tr>\n",
       "      <th>7</th>\n",
       "      <td>Male</td>\n",
       "      <td>NaN</td>\n",
       "      <td>[]</td>\n",
       "      <td>NaN</td>\n",
       "      <td>0</td>\n",
       "      <td>0</td>\n",
       "      <td>0</td>\n",
       "    </tr>\n",
       "    <tr>\n",
       "      <th>8</th>\n",
       "      <td>Male</td>\n",
       "      <td>NaN</td>\n",
       "      <td>[Coffee, Reading]</td>\n",
       "      <td>NaN</td>\n",
       "      <td>0</td>\n",
       "      <td>0</td>\n",
       "      <td>2</td>\n",
       "    </tr>\n",
       "    <tr>\n",
       "      <th>17</th>\n",
       "      <td>Male</td>\n",
       "      <td>NaN</td>\n",
       "      <td>[Tea, Music, Voter Rights]</td>\n",
       "      <td>Indie</td>\n",
       "      <td>2</td>\n",
       "      <td>0</td>\n",
       "      <td>3</td>\n",
       "    </tr>\n",
       "    <tr>\n",
       "      <th>24</th>\n",
       "      <td>Male</td>\n",
       "      <td>NaN</td>\n",
       "      <td>[Sports, Working out, Movies, Gym, Country Music]</td>\n",
       "      <td>Indie</td>\n",
       "      <td>0</td>\n",
       "      <td>0</td>\n",
       "      <td>5</td>\n",
       "    </tr>\n",
       "    <tr>\n",
       "      <th>26</th>\n",
       "      <td>Male</td>\n",
       "      <td>NaN</td>\n",
       "      <td>[Sports]</td>\n",
       "      <td>NaN</td>\n",
       "      <td>1</td>\n",
       "      <td>0</td>\n",
       "      <td>1</td>\n",
       "    </tr>\n",
       "    <tr>\n",
       "      <th>28</th>\n",
       "      <td>Male</td>\n",
       "      <td>NaN</td>\n",
       "      <td>[]</td>\n",
       "      <td>Pop</td>\n",
       "      <td>0</td>\n",
       "      <td>0</td>\n",
       "      <td>0</td>\n",
       "    </tr>\n",
       "    <tr>\n",
       "      <th>29</th>\n",
       "      <td>Male</td>\n",
       "      <td>NaN</td>\n",
       "      <td>[Travel, Sports, Working out]</td>\n",
       "      <td>Country</td>\n",
       "      <td>0</td>\n",
       "      <td>0</td>\n",
       "      <td>3</td>\n",
       "    </tr>\n",
       "    <tr>\n",
       "      <th>31</th>\n",
       "      <td>Male</td>\n",
       "      <td>NaN</td>\n",
       "      <td>[Martial Arts, Travel, Movies, Gym, Skiing]</td>\n",
       "      <td>NaN</td>\n",
       "      <td>0</td>\n",
       "      <td>0</td>\n",
       "      <td>5</td>\n",
       "    </tr>\n",
       "    <tr>\n",
       "      <th>36</th>\n",
       "      <td>Male</td>\n",
       "      <td>NaN</td>\n",
       "      <td>[Reading]</td>\n",
       "      <td>NaN</td>\n",
       "      <td>0</td>\n",
       "      <td>0</td>\n",
       "      <td>1</td>\n",
       "    </tr>\n",
       "    <tr>\n",
       "      <th>38</th>\n",
       "      <td>Male</td>\n",
       "      <td>NaN</td>\n",
       "      <td>[Travel, Sports, Music, Soccer, Cooking]</td>\n",
       "      <td>NaN</td>\n",
       "      <td>0</td>\n",
       "      <td>0</td>\n",
       "      <td>5</td>\n",
       "    </tr>\n",
       "    <tr>\n",
       "      <th>40</th>\n",
       "      <td>Male</td>\n",
       "      <td>NaN</td>\n",
       "      <td>[]</td>\n",
       "      <td>Country</td>\n",
       "      <td>0</td>\n",
       "      <td>0</td>\n",
       "      <td>0</td>\n",
       "    </tr>\n",
       "    <tr>\n",
       "      <th>41</th>\n",
       "      <td>Male</td>\n",
       "      <td>NaN</td>\n",
       "      <td>[Skiing, Snowboarding, Instagram, Crossfit]</td>\n",
       "      <td>Indie</td>\n",
       "      <td>0</td>\n",
       "      <td>0</td>\n",
       "      <td>4</td>\n",
       "    </tr>\n",
       "    <tr>\n",
       "      <th>43</th>\n",
       "      <td>Male</td>\n",
       "      <td>NaN</td>\n",
       "      <td>[Home Workout, Instagram, Sports, Tattoos, Ent...</td>\n",
       "      <td>Country</td>\n",
       "      <td>0</td>\n",
       "      <td>0</td>\n",
       "      <td>5</td>\n",
       "    </tr>\n",
       "    <tr>\n",
       "      <th>45</th>\n",
       "      <td>Male</td>\n",
       "      <td>NaN</td>\n",
       "      <td>[Reading, Sports, Movies]</td>\n",
       "      <td>NaN</td>\n",
       "      <td>0</td>\n",
       "      <td>0</td>\n",
       "      <td>3</td>\n",
       "    </tr>\n",
       "    <tr>\n",
       "      <th>46</th>\n",
       "      <td>Male</td>\n",
       "      <td>NaN</td>\n",
       "      <td>[Surfing, Tattoos, Stocks, Yoga, Ramen]</td>\n",
       "      <td>NaN</td>\n",
       "      <td>3</td>\n",
       "      <td>0</td>\n",
       "      <td>5</td>\n",
       "    </tr>\n",
       "  </tbody>\n",
       "</table>\n",
       "</div>"
      ],
      "text/plain": [
       "    gender  bio                                          interests  \\\n",
       "7   Female  NaN  [Sports, Dog lover, Athlete, Working out, Movies]   \n",
       "11  Female  NaN         [Walking, Travel, Movies, Coffee, Netflix]   \n",
       "16  Female  NaN  [Mental Health Awareness, Coffee, Working out,...   \n",
       "20  Female  NaN  [Cat lover, Second-hand apparel, Climate Chang...   \n",
       "23  Female  NaN  [Working out, Spirituality, Astrology, Languag...   \n",
       "26  Female  NaN                                                 []   \n",
       "28  Female  NaN             [Grab a drink, Working out, Dog lover]   \n",
       "31  Female  NaN                                          [Fashion]   \n",
       "35  Female  NaN             [Baking, Fashion, Cooking, Art, Music]   \n",
       "39  Female  NaN                     [Art, Dog lover, Voter Rights]   \n",
       "49  Female  NaN           [Walking, Language Exchange, Art, Music]   \n",
       "1     Male  NaN                [Outdoors, Netflix, Comedy, Hiking]   \n",
       "2     Male  NaN      [Movies, Tattoos, Working out, Music, Sports]   \n",
       "4     Male  NaN                                           [Coffee]   \n",
       "6     Male  NaN                                                 []   \n",
       "7     Male  NaN                                                 []   \n",
       "8     Male  NaN                                  [Coffee, Reading]   \n",
       "17    Male  NaN                         [Tea, Music, Voter Rights]   \n",
       "24    Male  NaN  [Sports, Working out, Movies, Gym, Country Music]   \n",
       "26    Male  NaN                                           [Sports]   \n",
       "28    Male  NaN                                                 []   \n",
       "29    Male  NaN                      [Travel, Sports, Working out]   \n",
       "31    Male  NaN        [Martial Arts, Travel, Movies, Gym, Skiing]   \n",
       "36    Male  NaN                                          [Reading]   \n",
       "38    Male  NaN           [Travel, Sports, Music, Soccer, Cooking]   \n",
       "40    Male  NaN                                                 []   \n",
       "41    Male  NaN        [Skiing, Snowboarding, Instagram, Crossfit]   \n",
       "43    Male  NaN  [Home Workout, Instagram, Sports, Tattoos, Ent...   \n",
       "45    Male  NaN                          [Reading, Sports, Movies]   \n",
       "46    Male  NaN            [Surfing, Tattoos, Stocks, Yoga, Ramen]   \n",
       "\n",
       "         anthem  prompts_replied  bio_length  num_interests  \n",
       "7         Indie                0           0              5  \n",
       "11          Pop                3           0              5  \n",
       "16          NaN                0           0              5  \n",
       "20          Pop                0           0              5  \n",
       "23          NaN                1           0              5  \n",
       "26          R&B                0           0              0  \n",
       "28          NaN                0           0              3  \n",
       "31          NaN                1           0              1  \n",
       "35  Hip Hop/Rap                0           0              5  \n",
       "39        Indie                0           0              3  \n",
       "49      Country                0           0              4  \n",
       "1           NaN                0           0              4  \n",
       "2           NaN                3           0              5  \n",
       "4           NaN                0           0              1  \n",
       "6           NaN                0           0              0  \n",
       "7           NaN                0           0              0  \n",
       "8           NaN                0           0              2  \n",
       "17        Indie                2           0              3  \n",
       "24        Indie                0           0              5  \n",
       "26          NaN                1           0              1  \n",
       "28          Pop                0           0              0  \n",
       "29      Country                0           0              3  \n",
       "31          NaN                0           0              5  \n",
       "36          NaN                0           0              1  \n",
       "38          NaN                0           0              5  \n",
       "40      Country                0           0              0  \n",
       "41        Indie                0           0              4  \n",
       "43      Country                0           0              5  \n",
       "45          NaN                0           0              3  \n",
       "46          NaN                3           0              5  "
      ]
     },
     "execution_count": 513,
     "metadata": {},
     "output_type": "execute_result"
    }
   ],
   "source": [
    "profiles[profiles.bio_length == 0]"
   ]
  },
  {
   "cell_type": "markdown",
   "metadata": {},
   "source": [
    "As we can see, there are a lot of empty biographies here. Let's go further into this."
   ]
  },
  {
   "cell_type": "markdown",
   "metadata": {},
   "source": [
    "#### Outliers (ii): - How many males have empty bios? -"
   ]
  },
  {
   "cell_type": "code",
   "execution_count": 514,
   "metadata": {},
   "outputs": [
    {
     "data": {
      "text/plain": [
       "19"
      ]
     },
     "execution_count": 514,
     "metadata": {},
     "output_type": "execute_result"
    }
   ],
   "source": [
    "len(males[males.bio_length == 0])"
   ]
  },
  {
   "cell_type": "markdown",
   "metadata": {},
   "source": [
    "#### Outliers (ii): - How many females have empty bios? -"
   ]
  },
  {
   "cell_type": "code",
   "execution_count": 515,
   "metadata": {},
   "outputs": [
    {
     "data": {
      "text/plain": [
       "11"
      ]
     },
     "execution_count": 515,
     "metadata": {},
     "output_type": "execute_result"
    }
   ],
   "source": [
    "len(females[females.bio_length == 0])"
   ]
  },
  {
   "cell_type": "markdown",
   "metadata": {},
   "source": [
    "Therefore, we have 30/100 of these profiles that did not provide a bio, with 19/50 males, and 11/50 females not providing. Meaning that in our sample size, males are 16% less likely to include a bio than females."
   ]
  },
  {
   "cell_type": "markdown",
   "metadata": {},
   "source": [
    "#### Outliers (ii): - Let's take a look -"
   ]
  },
  {
   "cell_type": "code",
   "execution_count": 516,
   "metadata": {},
   "outputs": [
    {
     "data": {
      "text/plain": [
       "<matplotlib.collections.PathCollection at 0x7fc14048bc10>"
      ]
     },
     "execution_count": 516,
     "metadata": {},
     "output_type": "execute_result"
    },
    {
     "data": {
      "image/png": "[encoded data removed]",
      "text/plain": [
       "<Figure size 432x288 with 1 Axes>"
      ]
     },
     "metadata": {
      "needs_background": "light"
     },
     "output_type": "display_data"
    }
   ],
   "source": [
    "y=list(range(len(profiles.index)))\n",
    "colors = {'Male': 'blue', 'Female': 'red'}\n",
    "plt.title('Bio length by gender')\n",
    "plt.ylabel('Bio length in characters')\n",
    "plt.scatter(y, profiles['bio_length'], c=profiles['gender'].map(colors), alpha=0.65)"
   ]
  },
  {
   "cell_type": "markdown",
   "metadata": {},
   "source": [
    "#### Outliers (ii): - Revisiting outliers -"
   ]
  },
  {
   "cell_type": "markdown",
   "metadata": {},
   "source": [
    "Very few profiles seem to have bio lengths over 150; let's take a look at them."
   ]
  },
  {
   "cell_type": "code",
   "execution_count": 517,
   "metadata": {},
   "outputs": [
    {
     "data": {
      "text/html": [
       "<div>\n",
       "<style scoped>\n",
       "    .dataframe tbody tr th:only-of-type {\n",
       "        vertical-align: middle;\n",
       "    }\n",
       "\n",
       "    .dataframe tbody tr th {\n",
       "        vertical-align: top;\n",
       "    }\n",
       "\n",
       "    .dataframe thead th {\n",
       "        text-align: right;\n",
       "    }\n",
       "</style>\n",
       "<table border=\"1\" class=\"dataframe\">\n",
       "  <thead>\n",
       "    <tr style=\"text-align: right;\">\n",
       "      <th></th>\n",
       "      <th>gender</th>\n",
       "      <th>bio</th>\n",
       "      <th>interests</th>\n",
       "      <th>anthem</th>\n",
       "      <th>prompts_replied</th>\n",
       "      <th>bio_length</th>\n",
       "      <th>num_interests</th>\n",
       "    </tr>\n",
       "  </thead>\n",
       "  <tbody>\n",
       "    <tr>\n",
       "      <th>19</th>\n",
       "      <td>Female</td>\n",
       "      <td>Mentally in NYC...I'm from and live in Panama ...</td>\n",
       "      <td>[Astrology, Movies, Music, Netflix, Writer]</td>\n",
       "      <td>Musical</td>\n",
       "      <td>3</td>\n",
       "      <td>217</td>\n",
       "      <td>5</td>\n",
       "    </tr>\n",
       "    <tr>\n",
       "      <th>21</th>\n",
       "      <td>Male</td>\n",
       "      <td>The only difference between me and dave Chappe...</td>\n",
       "      <td>[]</td>\n",
       "      <td>Country</td>\n",
       "      <td>0</td>\n",
       "      <td>173</td>\n",
       "      <td>0</td>\n",
       "    </tr>\n",
       "    <tr>\n",
       "      <th>30</th>\n",
       "      <td>Male</td>\n",
       "      <td>If you love nature and going on adventures, bu...</td>\n",
       "      <td>[Museum, Black Lives Matter, Travel, Feminism]</td>\n",
       "      <td>Hip Hop/Rap</td>\n",
       "      <td>2</td>\n",
       "      <td>250</td>\n",
       "      <td>4</td>\n",
       "    </tr>\n",
       "    <tr>\n",
       "      <th>37</th>\n",
       "      <td>Male</td>\n",
       "      <td>Currently a junior studying food science at MS...</td>\n",
       "      <td>[Movies, Tattoos, Hiking, Travel, Ice Cream]</td>\n",
       "      <td>Dubstep</td>\n",
       "      <td>2</td>\n",
       "      <td>166</td>\n",
       "      <td>5</td>\n",
       "    </tr>\n",
       "    <tr>\n",
       "      <th>48</th>\n",
       "      <td>Male</td>\n",
       "      <td>Chubby Dude lifting Chubby Weights Seeking: -V...</td>\n",
       "      <td>[Mental Heath Awareness, Working out, Dungeons...</td>\n",
       "      <td>Country</td>\n",
       "      <td>2</td>\n",
       "      <td>330</td>\n",
       "      <td>5</td>\n",
       "    </tr>\n",
       "  </tbody>\n",
       "</table>\n",
       "</div>"
      ],
      "text/plain": [
       "    gender                                                bio  \\\n",
       "19  Female  Mentally in NYC...I'm from and live in Panama ...   \n",
       "21    Male  The only difference between me and dave Chappe...   \n",
       "30    Male  If you love nature and going on adventures, bu...   \n",
       "37    Male  Currently a junior studying food science at MS...   \n",
       "48    Male  Chubby Dude lifting Chubby Weights Seeking: -V...   \n",
       "\n",
       "                                            interests       anthem  \\\n",
       "19        [Astrology, Movies, Music, Netflix, Writer]      Musical   \n",
       "21                                                 []      Country   \n",
       "30     [Museum, Black Lives Matter, Travel, Feminism]  Hip Hop/Rap   \n",
       "37       [Movies, Tattoos, Hiking, Travel, Ice Cream]      Dubstep   \n",
       "48  [Mental Heath Awareness, Working out, Dungeons...      Country   \n",
       "\n",
       "    prompts_replied  bio_length  num_interests  \n",
       "19                3         217              5  \n",
       "21                0         173              0  \n",
       "30                2         250              4  \n",
       "37                2         166              5  \n",
       "48                2         330              5  "
      ]
     },
     "execution_count": 517,
     "metadata": {},
     "output_type": "execute_result"
    }
   ],
   "source": [
    "profiles[profiles['bio_length'] >= 150]"
   ]
  },
  {
   "cell_type": "markdown",
   "metadata": {},
   "source": [
    "Surprisingly, 4 of the largest bio lengths in the entire set are males, though females seem to usually have more characters in their bios as a whole."
   ]
  },
  {
   "cell_type": "markdown",
   "metadata": {},
   "source": [
    "## Ascertaining information about favorite genres"
   ]
  },
  {
   "cell_type": "markdown",
   "metadata": {},
   "source": [
    "### Females favorite genre based on our dataset"
   ]
  },
  {
   "cell_type": "code",
   "execution_count": 518,
   "metadata": {},
   "outputs": [
    {
     "data": {
      "text/plain": [
       "Pop            14\n",
       "Hip Hop/Rap    10\n",
       "Indie           9\n",
       "Name: anthem, dtype: int64"
      ]
     },
     "execution_count": 518,
     "metadata": {},
     "output_type": "execute_result"
    }
   ],
   "source": [
    "females.anthem.value_counts().head(3)"
   ]
  },
  {
   "cell_type": "markdown",
   "metadata": {},
   "source": [
    "#### Plotting the top 3 female genres"
   ]
  },
  {
   "cell_type": "code",
   "execution_count": 524,
   "metadata": {},
   "outputs": [
    {
     "ename": "ValueError",
     "evalue": "'label' must be of length 'x'",
     "output_type": "error",
     "traceback": [
      "\u001b[0;31m---------------------------------------------------------------------------\u001b[0m",
      "\u001b[0;31mValueError\u001b[0m                                Traceback (most recent call last)",
      "\u001b[0;32m/var/folders/br/r3mm3gz519d5th3f45gclbyr0000gn/T/ipykernel_80426/55828871.py\u001b[0m in \u001b[0;36m<module>\u001b[0;34m\u001b[0m\n\u001b[0;32m----> 1\u001b[0;31m \u001b[0mplt\u001b[0m\u001b[0;34m.\u001b[0m\u001b[0mpie\u001b[0m\u001b[0;34m(\u001b[0m\u001b[0mfemales\u001b[0m\u001b[0;34m.\u001b[0m\u001b[0manthem\u001b[0m\u001b[0;34m.\u001b[0m\u001b[0mvalue_counts\u001b[0m\u001b[0;34m(\u001b[0m\u001b[0;34m)\u001b[0m\u001b[0;34m.\u001b[0m\u001b[0mhead\u001b[0m\u001b[0;34m(\u001b[0m\u001b[0;36m3\u001b[0m\u001b[0;34m)\u001b[0m\u001b[0;34m,\u001b[0m \u001b[0mlabels\u001b[0m\u001b[0;34m=\u001b[0m\u001b[0mfemales\u001b[0m\u001b[0;34m[\u001b[0m\u001b[0;34m'anthem'\u001b[0m\u001b[0;34m]\u001b[0m\u001b[0;34m,\u001b[0m \u001b[0mexplode\u001b[0m\u001b[0;34m=\u001b[0m\u001b[0;34m(\u001b[0m\u001b[0;36m0.1\u001b[0m\u001b[0;34m,\u001b[0m \u001b[0;36m0\u001b[0m\u001b[0;34m,\u001b[0m \u001b[0;36m0\u001b[0m\u001b[0;34m)\u001b[0m\u001b[0;34m,\u001b[0m \u001b[0mshadow\u001b[0m\u001b[0;34m=\u001b[0m\u001b[0;32mTrue\u001b[0m\u001b[0;34m,\u001b[0m \u001b[0mautopct\u001b[0m\u001b[0;34m=\u001b[0m\u001b[0;34m'%1.1f%%'\u001b[0m\u001b[0;34m,\u001b[0m \u001b[0mstartangle\u001b[0m\u001b[0;34m=\u001b[0m\u001b[0;36m90\u001b[0m\u001b[0;34m)\u001b[0m\u001b[0;34m\u001b[0m\u001b[0;34m\u001b[0m\u001b[0m\n\u001b[0m\u001b[1;32m      2\u001b[0m \u001b[0mplt\u001b[0m\u001b[0;34m.\u001b[0m\u001b[0maxis\u001b[0m\u001b[0;34m(\u001b[0m\u001b[0;34m'equal'\u001b[0m\u001b[0;34m)\u001b[0m\u001b[0;34m\u001b[0m\u001b[0;34m\u001b[0m\u001b[0m\n\u001b[1;32m      3\u001b[0m \u001b[0mplt\u001b[0m\u001b[0;34m.\u001b[0m\u001b[0mshow\u001b[0m\u001b[0;34m(\u001b[0m\u001b[0;34m)\u001b[0m\u001b[0;34m\u001b[0m\u001b[0;34m\u001b[0m\u001b[0m\n",
      "\u001b[0;32m~/opt/anaconda3/lib/python3.9/site-packages/matplotlib/pyplot.py\u001b[0m in \u001b[0;36mpie\u001b[0;34m(x, explode, labels, colors, autopct, pctdistance, shadow, labeldistance, startangle, radius, counterclock, wedgeprops, textprops, center, frame, rotatelabels, normalize, data)\u001b[0m\n\u001b[1;32m   3004\u001b[0m         \u001b[0mtextprops\u001b[0m\u001b[0;34m=\u001b[0m\u001b[0;32mNone\u001b[0m\u001b[0;34m,\u001b[0m \u001b[0mcenter\u001b[0m\u001b[0;34m=\u001b[0m\u001b[0;34m(\u001b[0m\u001b[0;36m0\u001b[0m\u001b[0;34m,\u001b[0m \u001b[0;36m0\u001b[0m\u001b[0;34m)\u001b[0m\u001b[0;34m,\u001b[0m \u001b[0mframe\u001b[0m\u001b[0;34m=\u001b[0m\u001b[0;32mFalse\u001b[0m\u001b[0;34m,\u001b[0m\u001b[0;34m\u001b[0m\u001b[0;34m\u001b[0m\u001b[0m\n\u001b[1;32m   3005\u001b[0m         rotatelabels=False, *, normalize=None, data=None):\n\u001b[0;32m-> 3006\u001b[0;31m     return gca().pie(\n\u001b[0m\u001b[1;32m   3007\u001b[0m         \u001b[0mx\u001b[0m\u001b[0;34m,\u001b[0m \u001b[0mexplode\u001b[0m\u001b[0;34m=\u001b[0m\u001b[0mexplode\u001b[0m\u001b[0;34m,\u001b[0m \u001b[0mlabels\u001b[0m\u001b[0;34m=\u001b[0m\u001b[0mlabels\u001b[0m\u001b[0;34m,\u001b[0m \u001b[0mcolors\u001b[0m\u001b[0;34m=\u001b[0m\u001b[0mcolors\u001b[0m\u001b[0;34m,\u001b[0m\u001b[0;34m\u001b[0m\u001b[0;34m\u001b[0m\u001b[0m\n\u001b[1;32m   3008\u001b[0m         \u001b[0mautopct\u001b[0m\u001b[0;34m=\u001b[0m\u001b[0mautopct\u001b[0m\u001b[0;34m,\u001b[0m \u001b[0mpctdistance\u001b[0m\u001b[0;34m=\u001b[0m\u001b[0mpctdistance\u001b[0m\u001b[0;34m,\u001b[0m \u001b[0mshadow\u001b[0m\u001b[0;34m=\u001b[0m\u001b[0mshadow\u001b[0m\u001b[0;34m,\u001b[0m\u001b[0;34m\u001b[0m\u001b[0;34m\u001b[0m\u001b[0m\n",
      "\u001b[0;32m~/opt/anaconda3/lib/python3.9/site-packages/matplotlib/__init__.py\u001b[0m in \u001b[0;36minner\u001b[0;34m(ax, data, *args, **kwargs)\u001b[0m\n\u001b[1;32m   1359\u001b[0m     \u001b[0;32mdef\u001b[0m \u001b[0minner\u001b[0m\u001b[0;34m(\u001b[0m\u001b[0max\u001b[0m\u001b[0;34m,\u001b[0m \u001b[0;34m*\u001b[0m\u001b[0margs\u001b[0m\u001b[0;34m,\u001b[0m \u001b[0mdata\u001b[0m\u001b[0;34m=\u001b[0m\u001b[0;32mNone\u001b[0m\u001b[0;34m,\u001b[0m \u001b[0;34m**\u001b[0m\u001b[0mkwargs\u001b[0m\u001b[0;34m)\u001b[0m\u001b[0;34m:\u001b[0m\u001b[0;34m\u001b[0m\u001b[0;34m\u001b[0m\u001b[0m\n\u001b[1;32m   1360\u001b[0m         \u001b[0;32mif\u001b[0m \u001b[0mdata\u001b[0m \u001b[0;32mis\u001b[0m \u001b[0;32mNone\u001b[0m\u001b[0;34m:\u001b[0m\u001b[0;34m\u001b[0m\u001b[0;34m\u001b[0m\u001b[0m\n\u001b[0;32m-> 1361\u001b[0;31m             \u001b[0;32mreturn\u001b[0m \u001b[0mfunc\u001b[0m\u001b[0;34m(\u001b[0m\u001b[0max\u001b[0m\u001b[0;34m,\u001b[0m \u001b[0;34m*\u001b[0m\u001b[0mmap\u001b[0m\u001b[0;34m(\u001b[0m\u001b[0msanitize_sequence\u001b[0m\u001b[0;34m,\u001b[0m \u001b[0margs\u001b[0m\u001b[0;34m)\u001b[0m\u001b[0;34m,\u001b[0m \u001b[0;34m**\u001b[0m\u001b[0mkwargs\u001b[0m\u001b[0;34m)\u001b[0m\u001b[0;34m\u001b[0m\u001b[0;34m\u001b[0m\u001b[0m\n\u001b[0m\u001b[1;32m   1362\u001b[0m \u001b[0;34m\u001b[0m\u001b[0m\n\u001b[1;32m   1363\u001b[0m         \u001b[0mbound\u001b[0m \u001b[0;34m=\u001b[0m \u001b[0mnew_sig\u001b[0m\u001b[0;34m.\u001b[0m\u001b[0mbind\u001b[0m\u001b[0;34m(\u001b[0m\u001b[0max\u001b[0m\u001b[0;34m,\u001b[0m \u001b[0;34m*\u001b[0m\u001b[0margs\u001b[0m\u001b[0;34m,\u001b[0m \u001b[0;34m**\u001b[0m\u001b[0mkwargs\u001b[0m\u001b[0;34m)\u001b[0m\u001b[0;34m\u001b[0m\u001b[0;34m\u001b[0m\u001b[0m\n",
      "\u001b[0;32m~/opt/anaconda3/lib/python3.9/site-packages/matplotlib/axes/_axes.py\u001b[0m in \u001b[0;36mpie\u001b[0;34m(self, x, explode, labels, colors, autopct, pctdistance, shadow, labeldistance, startangle, radius, counterclock, wedgeprops, textprops, center, frame, rotatelabels, normalize)\u001b[0m\n\u001b[1;32m   3057\u001b[0m             \u001b[0mexplode\u001b[0m \u001b[0;34m=\u001b[0m \u001b[0;34m[\u001b[0m\u001b[0;36m0\u001b[0m\u001b[0;34m]\u001b[0m \u001b[0;34m*\u001b[0m \u001b[0mlen\u001b[0m\u001b[0;34m(\u001b[0m\u001b[0mx\u001b[0m\u001b[0;34m)\u001b[0m\u001b[0;34m\u001b[0m\u001b[0;34m\u001b[0m\u001b[0m\n\u001b[1;32m   3058\u001b[0m         \u001b[0;32mif\u001b[0m \u001b[0mlen\u001b[0m\u001b[0;34m(\u001b[0m\u001b[0mx\u001b[0m\u001b[0;34m)\u001b[0m \u001b[0;34m!=\u001b[0m \u001b[0mlen\u001b[0m\u001b[0;34m(\u001b[0m\u001b[0mlabels\u001b[0m\u001b[0;34m)\u001b[0m\u001b[0;34m:\u001b[0m\u001b[0;34m\u001b[0m\u001b[0;34m\u001b[0m\u001b[0m\n\u001b[0;32m-> 3059\u001b[0;31m             \u001b[0;32mraise\u001b[0m \u001b[0mValueError\u001b[0m\u001b[0;34m(\u001b[0m\u001b[0;34m\"'label' must be of length 'x'\"\u001b[0m\u001b[0;34m)\u001b[0m\u001b[0;34m\u001b[0m\u001b[0;34m\u001b[0m\u001b[0m\n\u001b[0m\u001b[1;32m   3060\u001b[0m         \u001b[0;32mif\u001b[0m \u001b[0mlen\u001b[0m\u001b[0;34m(\u001b[0m\u001b[0mx\u001b[0m\u001b[0;34m)\u001b[0m \u001b[0;34m!=\u001b[0m \u001b[0mlen\u001b[0m\u001b[0;34m(\u001b[0m\u001b[0mexplode\u001b[0m\u001b[0;34m)\u001b[0m\u001b[0;34m:\u001b[0m\u001b[0;34m\u001b[0m\u001b[0;34m\u001b[0m\u001b[0m\n\u001b[1;32m   3061\u001b[0m             \u001b[0;32mraise\u001b[0m \u001b[0mValueError\u001b[0m\u001b[0;34m(\u001b[0m\u001b[0;34m\"'explode' must be of length 'x'\"\u001b[0m\u001b[0;34m)\u001b[0m\u001b[0;34m\u001b[0m\u001b[0;34m\u001b[0m\u001b[0m\n",
      "\u001b[0;31mValueError\u001b[0m: 'label' must be of length 'x'"
     ]
    },
    {
     "data": {
      "image/png": "[encoded data removed]",
      "text/plain": [
       "<Figure size 432x288 with 1 Axes>"
      ]
     },
     "metadata": {
      "needs_background": "light"
     },
     "output_type": "display_data"
    }
   ],
   "source": [
    "plt.pie(females.anthem.value_counts().head(3), labels=females.anthem.value_counts().head(3), explode=(0.1, 0, 0), shadow=True, autopct='%1.1f%%', startangle=90)\n",
    "plt.axis('equal')\n",
    "plt.show()"
   ]
  },
  {
   "cell_type": "markdown",
   "metadata": {},
   "source": [
    "### Males favorite genre based on our dataset"
   ]
  },
  {
   "cell_type": "code",
   "execution_count": 520,
   "metadata": {},
   "outputs": [
    {
     "data": {
      "text/plain": [
       "Hip Hop/Rap    19\n",
       "Pop            19\n",
       "Indie          13\n",
       "Name: anthem, dtype: int64"
      ]
     },
     "execution_count": 520,
     "metadata": {},
     "output_type": "execute_result"
    }
   ],
   "source": [
    "profiles.anthem.value_counts().head(3)"
   ]
  },
  {
   "cell_type": "markdown",
   "metadata": {},
   "source": [
    "#### Plotting the top 3 male genres"
   ]
  },
  {
   "cell_type": "code",
   "execution_count": 521,
   "metadata": {},
   "outputs": [
    {
     "data": {
      "image/png": "[encoded data removed]",
      "text/plain": [
       "<Figure size 432x288 with 1 Axes>"
      ]
     },
     "metadata": {},
     "output_type": "display_data"
    }
   ],
   "source": [
    "plt.pie(males.anthem.value_counts().head(3), explode=(0.1, 0, 0), shadow=True, autopct='%1.1f%%', startangle=90)\n",
    "plt.axis('equal')\n",
    "plt.show()"
   ]
  },
  {
   "cell_type": "markdown",
   "metadata": {},
   "source": [
    "### All profiles favorite genre based on our dataset"
   ]
  },
  {
   "cell_type": "code",
   "execution_count": 522,
   "metadata": {},
   "outputs": [
    {
     "data": {
      "text/plain": [
       "Hip Hop/Rap    19\n",
       "Pop            19\n",
       "Indie          13\n",
       "Name: anthem, dtype: int64"
      ]
     },
     "execution_count": 522,
     "metadata": {},
     "output_type": "execute_result"
    }
   ],
   "source": [
    "profiles.anthem.value_counts().head(3)"
   ]
  },
  {
   "cell_type": "markdown",
   "metadata": {},
   "source": [
    "#### Plotting the top 3 genres for all profiles"
   ]
  },
  {
   "cell_type": "code",
   "execution_count": 523,
   "metadata": {},
   "outputs": [
    {
     "data": {
      "image/png": "[encoded data removed]",
      "text/plain": [
       "<Figure size 432x288 with 1 Axes>"
      ]
     },
     "metadata": {},
     "output_type": "display_data"
    }
   ],
   "source": [
    "plt.pie(profiles.anthem.value_counts().head(3), explode=(0.1, 0, 0), shadow=True, autopct='%1.1f%%', startangle=90)\n",
    "plt.axis('equal')\n",
    "plt.show()"
   ]
  }
 ],
 "metadata": {
  "interpreter": {
   "hash": "c18392c146bd784484e39f7af94bff286b134afb9d729dfdc73b3e33cf274326"
  },
  "kernelspec": {
   "display_name": "Python 3.9.7 ('base')",
   "language": "python",
   "name": "python3"
  },
  "language_info": {
   "codemirror_mode": {
    "name": "ipython",
    "version": 3
   },
   "file_extension": ".py",
   "mimetype": "text/x-python",
   "name": "python",
   "nbconvert_exporter": "python",
   "pygments_lexer": "ipython3",
   "version": "3.9.7"
  },
  "orig_nbformat": 4
 },
 "nbformat": 4,
 "nbformat_minor": 2
}
