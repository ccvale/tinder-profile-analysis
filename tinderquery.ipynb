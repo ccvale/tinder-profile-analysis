{
 "cells": [
  {
   "cell_type": "markdown",
   "metadata": {},
   "source": [
    "## Importing libraries"
   ]
  },
  {
   "cell_type": "code",
   "execution_count": 1,
   "metadata": {},
   "outputs": [],
   "source": [
    "# https://www.codegrepper.com/code-examples/python/pandas+disable+warnings (for the report)\n",
    "import warnings\n",
    "warnings.filterwarnings('ignore')\n",
    "\n",
    "import pandas as pd\n",
    "import matplotlib.pyplot as plt\n",
    "import numpy as np"
   ]
  },
  {
   "cell_type": "markdown",
   "metadata": {},
   "source": [
    "## Loading files and data manipulation"
   ]
  },
  {
   "cell_type": "markdown",
   "metadata": {},
   "source": [
    "### Reading and cleaning the females dataset"
   ]
  },
  {
   "cell_type": "code",
   "execution_count": 2,
   "metadata": {},
   "outputs": [
    {
     "data": {
      "text/html": [
       "<div>\n",
       "<style scoped>\n",
       "    .dataframe tbody tr th:only-of-type {\n",
       "        vertical-align: middle;\n",
       "    }\n",
       "\n",
       "    .dataframe tbody tr th {\n",
       "        vertical-align: top;\n",
       "    }\n",
       "\n",
       "    .dataframe thead th {\n",
       "        text-align: right;\n",
       "    }\n",
       "</style>\n",
       "<table border=\"1\" class=\"dataframe\">\n",
       "  <thead>\n",
       "    <tr style=\"text-align: right;\">\n",
       "      <th></th>\n",
       "      <th>gender</th>\n",
       "      <th>bio</th>\n",
       "      <th>interests</th>\n",
       "      <th>anthem</th>\n",
       "      <th>prompts_replied</th>\n",
       "      <th>bio_length</th>\n",
       "    </tr>\n",
       "  </thead>\n",
       "  <tbody>\n",
       "    <tr>\n",
       "      <th>0</th>\n",
       "      <td>Female</td>\n",
       "      <td>Instagram- leonor_ortizzz</td>\n",
       "      <td>[Coffee, Activism, Foodie, Music, Movies]</td>\n",
       "      <td></td>\n",
       "      <td>0</td>\n",
       "      <td>27</td>\n",
       "    </tr>\n",
       "    <tr>\n",
       "      <th>1</th>\n",
       "      <td>Female</td>\n",
       "      <td>lover of avocados, coconuts, and one too many ...</td>\n",
       "      <td>[Fashion, Karaoke, Museum, Brunch, Volunteering]</td>\n",
       "      <td>OPEN A WINDOW (feat. Tyler, The Creator)</td>\n",
       "      <td>1</td>\n",
       "      <td>60</td>\n",
       "    </tr>\n",
       "    <tr>\n",
       "      <th>2</th>\n",
       "      <td>Female</td>\n",
       "      <td>mommy issue haver costco hotdog enthusiast goo...</td>\n",
       "      <td>[Foodie, Music, Karaoke, Dog lover, Comedy]</td>\n",
       "      <td>Fair Trade (with Travis Scott)</td>\n",
       "      <td>3</td>\n",
       "      <td>63</td>\n",
       "    </tr>\n",
       "    <tr>\n",
       "      <th>3</th>\n",
       "      <td>Female</td>\n",
       "      <td>Follow my new insta page: angelisse_req Im 18 ...</td>\n",
       "      <td>[Foodie, Tattoos, Sports, Astrology, Spiritual...</td>\n",
       "      <td></td>\n",
       "      <td>0</td>\n",
       "      <td>75</td>\n",
       "    </tr>\n",
       "    <tr>\n",
       "      <th>4</th>\n",
       "      <td>Female</td>\n",
       "      <td>they/she. from bushwick, and 420 friendly. :) ...</td>\n",
       "      <td>[Photography, Black Lives Matter, Movies, Musi...</td>\n",
       "      <td>Wolfcat</td>\n",
       "      <td>2</td>\n",
       "      <td>112</td>\n",
       "    </tr>\n",
       "  </tbody>\n",
       "</table>\n",
       "</div>"
      ],
      "text/plain": [
       "   gender                                                bio  \\\n",
       "0  Female                          Instagram- leonor_ortizzz   \n",
       "1  Female  lover of avocados, coconuts, and one too many ...   \n",
       "2  Female  mommy issue haver costco hotdog enthusiast goo...   \n",
       "3  Female  Follow my new insta page: angelisse_req Im 18 ...   \n",
       "4  Female  they/she. from bushwick, and 420 friendly. :) ...   \n",
       "\n",
       "                                           interests  \\\n",
       "0          [Coffee, Activism, Foodie, Music, Movies]   \n",
       "1   [Fashion, Karaoke, Museum, Brunch, Volunteering]   \n",
       "2        [Foodie, Music, Karaoke, Dog lover, Comedy]   \n",
       "3  [Foodie, Tattoos, Sports, Astrology, Spiritual...   \n",
       "4  [Photography, Black Lives Matter, Movies, Musi...   \n",
       "\n",
       "                                     anthem  prompts_replied  bio_length  \n",
       "0                                                          0          27  \n",
       "1  OPEN A WINDOW (feat. Tyler, The Creator)                1          60  \n",
       "2            Fair Trade (with Travis Scott)                3          63  \n",
       "3                                                          0          75  \n",
       "4                                   Wolfcat                2         112  "
      ]
     },
     "execution_count": 2,
     "metadata": {},
     "output_type": "execute_result"
    }
   ],
   "source": [
    "# reading and cleaning the females dataset\n",
    "females = pd.read_json('females.json')\n",
    "\n",
    "# https://stackoverflow.com/questions/62343093/remove-empty-string-from-a-list-of-strings\n",
    "females['prompts_replied'] = [len(list(filter(None, sublist))) for sublist in females['prompts']]\n",
    "females = females.drop(['id', 'prompts'], 1)\n",
    "\n",
    "females['gender'] = 'Female'\n",
    "\n",
    "females['bio_length'] = females['bio'].str.split('').str.len()\n",
    "females['bio_length'] = females['bio_length'].replace('', 0).astype('int')\n",
    "females['bio_length'][females.bio_length == 2] = 0\n",
    "\n",
    "females.head()"
   ]
  },
  {
   "cell_type": "markdown",
   "metadata": {},
   "source": [
    "### Reading and cleaning the males dataset"
   ]
  },
  {
   "cell_type": "code",
   "execution_count": 3,
   "metadata": {},
   "outputs": [
    {
     "data": {
      "text/html": [
       "<div>\n",
       "<style scoped>\n",
       "    .dataframe tbody tr th:only-of-type {\n",
       "        vertical-align: middle;\n",
       "    }\n",
       "\n",
       "    .dataframe tbody tr th {\n",
       "        vertical-align: top;\n",
       "    }\n",
       "\n",
       "    .dataframe thead th {\n",
       "        text-align: right;\n",
       "    }\n",
       "</style>\n",
       "<table border=\"1\" class=\"dataframe\">\n",
       "  <thead>\n",
       "    <tr style=\"text-align: right;\">\n",
       "      <th></th>\n",
       "      <th>gender</th>\n",
       "      <th>bio</th>\n",
       "      <th>interests</th>\n",
       "      <th>anthem</th>\n",
       "      <th>prompts_replied</th>\n",
       "      <th>bio_length</th>\n",
       "    </tr>\n",
       "  </thead>\n",
       "  <tbody>\n",
       "    <tr>\n",
       "      <th>0</th>\n",
       "      <td>Male</td>\n",
       "      <td>Jmu baseball  26 Don Bosco Prep 22</td>\n",
       "      <td>[Working out]</td>\n",
       "      <td></td>\n",
       "      <td>0</td>\n",
       "      <td>36</td>\n",
       "    </tr>\n",
       "    <tr>\n",
       "      <th>1</th>\n",
       "      <td>Male</td>\n",
       "      <td></td>\n",
       "      <td>[Outdoors, Netflix, Comedy, Hiking]</td>\n",
       "      <td></td>\n",
       "      <td>0</td>\n",
       "      <td>0</td>\n",
       "    </tr>\n",
       "    <tr>\n",
       "      <th>2</th>\n",
       "      <td>Male</td>\n",
       "      <td></td>\n",
       "      <td>[Movies, Tattoos, Working out, Music, Sports]</td>\n",
       "      <td></td>\n",
       "      <td>3</td>\n",
       "      <td>0</td>\n",
       "    </tr>\n",
       "    <tr>\n",
       "      <th>3</th>\n",
       "      <td>Male</td>\n",
       "      <td>I workout in the morning so the rest of the da...</td>\n",
       "      <td>[Travel, Music, Working out]</td>\n",
       "      <td>Hurricane</td>\n",
       "      <td>0</td>\n",
       "      <td>114</td>\n",
       "    </tr>\n",
       "    <tr>\n",
       "      <th>4</th>\n",
       "      <td>Male</td>\n",
       "      <td></td>\n",
       "      <td>[Coffee]</td>\n",
       "      <td></td>\n",
       "      <td>0</td>\n",
       "      <td>0</td>\n",
       "    </tr>\n",
       "  </tbody>\n",
       "</table>\n",
       "</div>"
      ],
      "text/plain": [
       "  gender                                                bio  \\\n",
       "0   Male                 Jmu baseball  26 Don Bosco Prep 22   \n",
       "1   Male                                                      \n",
       "2   Male                                                      \n",
       "3   Male  I workout in the morning so the rest of the da...   \n",
       "4   Male                                                      \n",
       "\n",
       "                                       interests     anthem  prompts_replied  \\\n",
       "0                                  [Working out]                           0   \n",
       "1            [Outdoors, Netflix, Comedy, Hiking]                           0   \n",
       "2  [Movies, Tattoos, Working out, Music, Sports]                           3   \n",
       "3                   [Travel, Music, Working out]  Hurricane                0   \n",
       "4                                       [Coffee]                           0   \n",
       "\n",
       "   bio_length  \n",
       "0          36  \n",
       "1           0  \n",
       "2           0  \n",
       "3         114  \n",
       "4           0  "
      ]
     },
     "execution_count": 3,
     "metadata": {},
     "output_type": "execute_result"
    }
   ],
   "source": [
    "males = pd.read_json('males.json')\n",
    "\n",
    "# https://stackoverflow.com/questions/62343093/remove-empty-string-from-a-list-of-strings\n",
    "males['prompts_replied'] = [len(list(filter(None, sublist))) for sublist in males['prompts']]\n",
    "\n",
    "males = males.drop(['id', 'prompts'], 1)\n",
    "\n",
    "males['gender'] = 'Male'\n",
    "\n",
    "males['bio_length'] = males['bio'].str.split('').str.len()\n",
    "males['bio_length'] = males['bio_length'].replace('', 0).astype('int')\n",
    "\n",
    "males['bio_length'][males.bio_length == 2] = 0\n",
    "\n",
    "males.head()"
   ]
  },
  {
   "cell_type": "markdown",
   "metadata": {},
   "source": [
    "### Combining both dataframes, and further cleaning"
   ]
  },
  {
   "cell_type": "code",
   "execution_count": 4,
   "metadata": {},
   "outputs": [
    {
     "data": {
      "text/html": [
       "<div>\n",
       "<style scoped>\n",
       "    .dataframe tbody tr th:only-of-type {\n",
       "        vertical-align: middle;\n",
       "    }\n",
       "\n",
       "    .dataframe tbody tr th {\n",
       "        vertical-align: top;\n",
       "    }\n",
       "\n",
       "    .dataframe thead th {\n",
       "        text-align: right;\n",
       "    }\n",
       "</style>\n",
       "<table border=\"1\" class=\"dataframe\">\n",
       "  <thead>\n",
       "    <tr style=\"text-align: right;\">\n",
       "      <th></th>\n",
       "      <th>gender</th>\n",
       "      <th>bio</th>\n",
       "      <th>interests</th>\n",
       "      <th>anthem</th>\n",
       "      <th>prompts_replied</th>\n",
       "      <th>bio_length</th>\n",
       "      <th>num_interests</th>\n",
       "    </tr>\n",
       "  </thead>\n",
       "  <tbody>\n",
       "    <tr>\n",
       "      <th>0</th>\n",
       "      <td>Female</td>\n",
       "      <td>Instagram- leonor_ortizzz</td>\n",
       "      <td>[Coffee, Activism, Foodie, Music, Movies]</td>\n",
       "      <td>NaN</td>\n",
       "      <td>0</td>\n",
       "      <td>27</td>\n",
       "      <td>5</td>\n",
       "    </tr>\n",
       "    <tr>\n",
       "      <th>1</th>\n",
       "      <td>Female</td>\n",
       "      <td>lover of avocados, coconuts, and one too many ...</td>\n",
       "      <td>[Fashion, Karaoke, Museum, Brunch, Volunteering]</td>\n",
       "      <td>OPEN A WINDOW (feat. Tyler, The Creator)</td>\n",
       "      <td>1</td>\n",
       "      <td>60</td>\n",
       "      <td>5</td>\n",
       "    </tr>\n",
       "    <tr>\n",
       "      <th>2</th>\n",
       "      <td>Female</td>\n",
       "      <td>mommy issue haver costco hotdog enthusiast goo...</td>\n",
       "      <td>[Foodie, Music, Karaoke, Dog lover, Comedy]</td>\n",
       "      <td>Fair Trade (with Travis Scott)</td>\n",
       "      <td>3</td>\n",
       "      <td>63</td>\n",
       "      <td>5</td>\n",
       "    </tr>\n",
       "    <tr>\n",
       "      <th>3</th>\n",
       "      <td>Female</td>\n",
       "      <td>Follow my new insta page: angelisse_req Im 18 ...</td>\n",
       "      <td>[Foodie, Tattoos, Sports, Astrology, Spiritual...</td>\n",
       "      <td>NaN</td>\n",
       "      <td>0</td>\n",
       "      <td>75</td>\n",
       "      <td>5</td>\n",
       "    </tr>\n",
       "    <tr>\n",
       "      <th>4</th>\n",
       "      <td>Female</td>\n",
       "      <td>they/she. from bushwick, and 420 friendly. :) ...</td>\n",
       "      <td>[Photography, Black Lives Matter, Movies, Musi...</td>\n",
       "      <td>Wolfcat</td>\n",
       "      <td>2</td>\n",
       "      <td>112</td>\n",
       "      <td>5</td>\n",
       "    </tr>\n",
       "  </tbody>\n",
       "</table>\n",
       "</div>"
      ],
      "text/plain": [
       "   gender                                                bio  \\\n",
       "0  Female                          Instagram- leonor_ortizzz   \n",
       "1  Female  lover of avocados, coconuts, and one too many ...   \n",
       "2  Female  mommy issue haver costco hotdog enthusiast goo...   \n",
       "3  Female  Follow my new insta page: angelisse_req Im 18 ...   \n",
       "4  Female  they/she. from bushwick, and 420 friendly. :) ...   \n",
       "\n",
       "                                           interests  \\\n",
       "0          [Coffee, Activism, Foodie, Music, Movies]   \n",
       "1   [Fashion, Karaoke, Museum, Brunch, Volunteering]   \n",
       "2        [Foodie, Music, Karaoke, Dog lover, Comedy]   \n",
       "3  [Foodie, Tattoos, Sports, Astrology, Spiritual...   \n",
       "4  [Photography, Black Lives Matter, Movies, Musi...   \n",
       "\n",
       "                                     anthem  prompts_replied  bio_length  \\\n",
       "0                                       NaN                0          27   \n",
       "1  OPEN A WINDOW (feat. Tyler, The Creator)                1          60   \n",
       "2            Fair Trade (with Travis Scott)                3          63   \n",
       "3                                       NaN                0          75   \n",
       "4                                   Wolfcat                2         112   \n",
       "\n",
       "   num_interests  \n",
       "0              5  \n",
       "1              5  \n",
       "2              5  \n",
       "3              5  \n",
       "4              5  "
      ]
     },
     "execution_count": 4,
     "metadata": {},
     "output_type": "execute_result"
    }
   ],
   "source": [
    "# joining male and female datasets\n",
    "profiles = females.append(males)\n",
    "profiles = profiles.replace('',np.nan)\n",
    "\n",
    "profiles['num_interests'] = profiles['interests'].str.len()\n",
    "profiles['num_interests'] = profiles['num_interests'].replace(np.nan, 0)\n",
    "profiles['num_interests'] = profiles['num_interests'].astype('int')\n",
    "\n",
    "profiles.head()"
   ]
  },
  {
   "cell_type": "markdown",
   "metadata": {},
   "source": [
    "### Additional information from the `profiles` dataset"
   ]
  },
  {
   "cell_type": "code",
   "execution_count": 5,
   "metadata": {},
   "outputs": [
    {
     "data": {
      "text/plain": [
       "\"\\nOther things we can look at here have the following information:\\nprofiles.describe() - has mean, std, min, max, etc of prompts_replied, bio_length, and num_interests\\nprofiles.info() - tells us 'non-null' count for all columns, and the dtype\\nprofiles.count() - gives us what profile.info() does but without a lot of the clutter\\n\""
      ]
     },
     "execution_count": 5,
     "metadata": {},
     "output_type": "execute_result"
    }
   ],
   "source": [
    "'''\n",
    "Other things we can look at here have the following information:\n",
    "profiles.describe() - has mean, std, min, max, etc of prompts_replied, bio_length, and num_interests\n",
    "profiles.info() - tells us 'non-null' count for all columns, and the dtype\n",
    "profiles.count() - gives us what profile.info() does but without a lot of the clutter\n",
    "'''"
   ]
  },
  {
   "cell_type": "markdown",
   "metadata": {},
   "source": [
    "## Ascertaining information about most common interests"
   ]
  },
  {
   "cell_type": "code",
   "execution_count": 6,
   "metadata": {},
   "outputs": [],
   "source": [
    "from collections import Counter\n",
    "\n",
    "def getMostCommonInterest(df):\n",
    "    '''finding the most common interest for all genders'''\n",
    "    interests = []\n",
    "    for profile_interest_list in df.interests:\n",
    "        interests += profile_interest_list\n",
    "    c = Counter(interests)\n",
    "    return c.most_common(5)\n",
    "\n",
    "def generatePie(df, explode: tuple):\n",
    "    '''reusing code to plot a pie chart with a given dataframe and burst tuple for effects'''\n",
    "    plot = getMostCommonInterest(df)\n",
    "    ndf = pd.DataFrame(plot, columns=['Interest', 'Frequency'])\n",
    "\n",
    "    plt.pie(ndf['Frequency'],labels=ndf['Interest'], explode=explode, shadow=True, autopct='%1.1f%%', startangle=90)\n",
    "    plt.axis('equal')\n",
    "    plt.show()\n"
   ]
  },
  {
   "cell_type": "code",
   "execution_count": 7,
   "metadata": {},
   "outputs": [
    {
     "data": {
      "image/png": "[encoded data removed]",
      "text/plain": [
       "<Figure size 432x288 with 1 Axes>"
      ]
     },
     "metadata": {},
     "output_type": "display_data"
    }
   ],
   "source": [
    "generatePie(females, (0, 0.1, 0, 0, 0))\n"
   ]
  },
  {
   "cell_type": "code",
   "execution_count": 8,
   "metadata": {},
   "outputs": [
    {
     "data": {
      "image/png": "[encoded data removed]",
      "text/plain": [
       "<Figure size 432x288 with 1 Axes>"
      ]
     },
     "metadata": {},
     "output_type": "display_data"
    }
   ],
   "source": [
    "generatePie(males, (0.1, 0, 0, 0, 0))"
   ]
  },
  {
   "cell_type": "code",
   "execution_count": 9,
   "metadata": {},
   "outputs": [
    {
     "data": {
      "image/png": "[encoded data removed]",
      "text/plain": [
       "<Figure size 432x288 with 1 Axes>"
      ]
     },
     "metadata": {},
     "output_type": "display_data"
    }
   ],
   "source": [
    "generatePie(profiles, (0, 0, 0, 0.1, 0))"
   ]
  },
  {
   "cell_type": "markdown",
   "metadata": {},
   "source": [
    "## Ascertaining information about those who chose to fill out the optional prompts"
   ]
  },
  {
   "cell_type": "code",
   "execution_count": 16,
   "metadata": {},
   "outputs": [
    {
     "data": {
      "text/plain": [
       "0    54\n",
       "3    17\n",
       "2    17\n",
       "1    12\n",
       "Name: prompts_replied, dtype: int64"
      ]
     },
     "execution_count": 16,
     "metadata": {},
     "output_type": "execute_result"
    }
   ],
   "source": [
    "'''We want to show the count of people with 3, 2, 1, and 0 answers, and then graph them'''\n",
    "profiles.prompts_replied.value_counts()"
   ]
  },
  {
   "cell_type": "code",
   "execution_count": 20,
   "metadata": {},
   "outputs": [
    {
     "data": {
      "text/plain": [
       "<AxesSubplot:>"
      ]
     },
     "execution_count": 20,
     "metadata": {},
     "output_type": "execute_result"
    },
    {
     "data": {
      "image/png": "[encoded data removed]",
      "text/plain": [
       "<Figure size 432x288 with 1 Axes>"
      ]
     },
     "metadata": {
      "needs_background": "light"
     },
     "output_type": "display_data"
    }
   ],
   "source": [
    "'''and then plot them (neaten it up)'''\n",
    "profiles['prompts_replied'].value_counts().plot(kind='bar')"
   ]
  }
 ],
 "metadata": {
  "interpreter": {
   "hash": "c18392c146bd784484e39f7af94bff286b134afb9d729dfdc73b3e33cf274326"
  },
  "kernelspec": {
   "display_name": "Python 3.9.7 ('base')",
   "language": "python",
   "name": "python3"
  },
  "language_info": {
   "codemirror_mode": {
    "name": "ipython",
    "version": 3
   },
   "file_extension": ".py",
   "mimetype": "text/x-python",
   "name": "python",
   "nbconvert_exporter": "python",
   "pygments_lexer": "ipython3",
   "version": "3.9.7"
  },
  "orig_nbformat": 4
 },
 "nbformat": 4,
 "nbformat_minor": 2
}
