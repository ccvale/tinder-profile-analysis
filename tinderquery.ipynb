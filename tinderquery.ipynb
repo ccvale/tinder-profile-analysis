{
 "cells": [
  {
   "cell_type": "markdown",
   "metadata": {},
   "source": [
    "# A Data Analysis on Tinder Profiles"
   ]
  },
  {
   "cell_type": "markdown",
   "metadata": {},
   "source": [
    "For the final project, we decided that we wanted to take a look at Tinder profiles, so we had taken a sampling of 50 male profiles and 50 female profiles which are located in the attached `males.json` and `females.json` files in the project folder. We will go on to have them ultimately joined together to create a larger set of 100 Tinder profiles of mixed genders. The goal of this project is to take a look at some of the defining attributes of a Tinder profile, and see what observations we can make about male and female profiles both seperated by gender, and mixed together."
   ]
  },
  {
   "cell_type": "markdown",
   "metadata": {},
   "source": [
    "## Importing libraries"
   ]
  },
  {
   "cell_type": "code",
   "execution_count": 1,
   "metadata": {},
   "outputs": [],
   "source": [
    "# https://www.codegrepper.com/code-examples/python/pandas+disable+warnings (for the report)\n",
    "import warnings\n",
    "warnings.filterwarnings('ignore')\n",
    "\n",
    "import pandas as pd\n",
    "import matplotlib.pyplot as plt\n",
    "import numpy as np"
   ]
  },
  {
   "cell_type": "markdown",
   "metadata": {},
   "source": [
    "## Loading files and data manipulation"
   ]
  },
  {
   "cell_type": "markdown",
   "metadata": {},
   "source": [
    "The way the data was provided, we thought it would be best to create a JSON file with all the female profiles, and one with all the male profiles. From here, we are going to make them both dataframes, clean them seperately to use later, and then put the two dataframes together so we can do our analysis.\n",
    "\n",
    "The `females`, `males`, and `profiles` datasets before any cleaning consists of the following columns:\n",
    "- `id` -> a tag ranging from 1-50 in both the `males` and `females` JSON files that was given to profiles to keep track of them individually\n",
    "- `gender` -> was defined in the JSON files as 0 for male and 1 for female, but we are refactoring it to just be a string of their gender for conciseness\n",
    "- `bio` -> the given bio the user provided to Tinder\n",
    "- `interests` -> is a list of the interests highlighted on each individual Tinder profile\n",
    "- `anthem` -> is the genre of the profiles selected favorite song\n",
    "- `prompts` -> is a list that contains the responses to Tinder's optional prompts\n",
    "\n",
    "We plan on creating the following columns with the data provided from the aforementioned columns:\n",
    "- `prompts_replied` -> the number of prompts replied to, which is specified in the `prompts` column list\n",
    "- `bio_length` -> the length (in characters) of the users bio\n",
    "- `num_interests` -> the number of interests specified in the `interests` column list"
   ]
  },
  {
   "cell_type": "markdown",
   "metadata": {},
   "source": [
    "### Reading and cleaning the `females` dataset"
   ]
  },
  {
   "cell_type": "code",
   "execution_count": 2,
   "metadata": {},
   "outputs": [
    {
     "data": {
      "text/html": [
       "<div>\n",
       "<style scoped>\n",
       "    .dataframe tbody tr th:only-of-type {\n",
       "        vertical-align: middle;\n",
       "    }\n",
       "\n",
       "    .dataframe tbody tr th {\n",
       "        vertical-align: top;\n",
       "    }\n",
       "\n",
       "    .dataframe thead th {\n",
       "        text-align: right;\n",
       "    }\n",
       "</style>\n",
       "<table border=\"1\" class=\"dataframe\">\n",
       "  <thead>\n",
       "    <tr style=\"text-align: right;\">\n",
       "      <th></th>\n",
       "      <th>gender</th>\n",
       "      <th>interests</th>\n",
       "      <th>anthem</th>\n",
       "      <th>prompts_replied</th>\n",
       "      <th>bio_length</th>\n",
       "    </tr>\n",
       "  </thead>\n",
       "  <tbody>\n",
       "    <tr>\n",
       "      <th>0</th>\n",
       "      <td>Female</td>\n",
       "      <td>[Coffee, Activism, Foodie, Music, Movies]</td>\n",
       "      <td>NaN</td>\n",
       "      <td>0</td>\n",
       "      <td>25</td>\n",
       "    </tr>\n",
       "    <tr>\n",
       "      <th>1</th>\n",
       "      <td>Female</td>\n",
       "      <td>[Fashion, Karaoke, Museum, Brunch, Volunteering]</td>\n",
       "      <td>Hip Hop/Rap</td>\n",
       "      <td>1</td>\n",
       "      <td>58</td>\n",
       "    </tr>\n",
       "    <tr>\n",
       "      <th>2</th>\n",
       "      <td>Female</td>\n",
       "      <td>[Foodie, Music, Karaoke, Dog lover, Comedy]</td>\n",
       "      <td>Hip Hop/Rap</td>\n",
       "      <td>3</td>\n",
       "      <td>61</td>\n",
       "    </tr>\n",
       "    <tr>\n",
       "      <th>3</th>\n",
       "      <td>Female</td>\n",
       "      <td>[Foodie, Tattoos, Sports, Astrology, Spiritual...</td>\n",
       "      <td>Indie</td>\n",
       "      <td>0</td>\n",
       "      <td>73</td>\n",
       "    </tr>\n",
       "    <tr>\n",
       "      <th>4</th>\n",
       "      <td>Female</td>\n",
       "      <td>[Photography, Black Lives Matter, Movies, Musi...</td>\n",
       "      <td>Pop</td>\n",
       "      <td>2</td>\n",
       "      <td>110</td>\n",
       "    </tr>\n",
       "  </tbody>\n",
       "</table>\n",
       "</div>"
      ],
      "text/plain": [
       "   gender                                          interests       anthem  \\\n",
       "0  Female          [Coffee, Activism, Foodie, Music, Movies]          NaN   \n",
       "1  Female   [Fashion, Karaoke, Museum, Brunch, Volunteering]  Hip Hop/Rap   \n",
       "2  Female        [Foodie, Music, Karaoke, Dog lover, Comedy]  Hip Hop/Rap   \n",
       "3  Female  [Foodie, Tattoos, Sports, Astrology, Spiritual...        Indie   \n",
       "4  Female  [Photography, Black Lives Matter, Movies, Musi...          Pop   \n",
       "\n",
       "   prompts_replied  bio_length  \n",
       "0                0          25  \n",
       "1                1          58  \n",
       "2                3          61  \n",
       "3                0          73  \n",
       "4                2         110  "
      ]
     },
     "execution_count": 2,
     "metadata": {},
     "output_type": "execute_result"
    }
   ],
   "source": [
    "# reading and cleaning the females dataset\n",
    "females = pd.read_json('females.json')\n",
    "\n",
    "# https://stackoverflow.com/questions/62343093/remove-empty-string-from-a-list-of-strings\n",
    "females['prompts_replied'] = [len(list(filter(None, sublist))) for sublist in females['prompts']]\n",
    "\n",
    "# we want to change the '1' to 'Female' for easier and cleaner data\n",
    "females['gender'] = 'Female'\n",
    "\n",
    "# we don't care about the actual bio itself for this research, we just want to know how long it is, so we're going to take the length and drop it\n",
    "females['bio_length'] = females['bio'].str.split('').str.len()\n",
    "females['bio_length'] = females['bio_length'].replace('', 0).astype('int') - 2\n",
    "\n",
    "# now that we have what we needed we drop for abstraction. for handling this data in python, we never needed the id column, so we drop it too\n",
    "females = females.drop(['id', 'prompts', 'bio'], 1)\n",
    "\n",
    "# and now we want to make sure that all prompts not filled out get replaced with NaN\n",
    "females = females.replace('',np.nan)\n",
    "\n",
    "females.head()"
   ]
  },
  {
   "cell_type": "markdown",
   "metadata": {},
   "source": [
    "### Reading and cleaning the `males` dataset"
   ]
  },
  {
   "cell_type": "code",
   "execution_count": 3,
   "metadata": {},
   "outputs": [
    {
     "data": {
      "text/html": [
       "<div>\n",
       "<style scoped>\n",
       "    .dataframe tbody tr th:only-of-type {\n",
       "        vertical-align: middle;\n",
       "    }\n",
       "\n",
       "    .dataframe tbody tr th {\n",
       "        vertical-align: top;\n",
       "    }\n",
       "\n",
       "    .dataframe thead th {\n",
       "        text-align: right;\n",
       "    }\n",
       "</style>\n",
       "<table border=\"1\" class=\"dataframe\">\n",
       "  <thead>\n",
       "    <tr style=\"text-align: right;\">\n",
       "      <th></th>\n",
       "      <th>gender</th>\n",
       "      <th>interests</th>\n",
       "      <th>anthem</th>\n",
       "      <th>prompts_replied</th>\n",
       "      <th>bio_length</th>\n",
       "    </tr>\n",
       "  </thead>\n",
       "  <tbody>\n",
       "    <tr>\n",
       "      <th>0</th>\n",
       "      <td>Male</td>\n",
       "      <td>[Working out]</td>\n",
       "      <td>NaN</td>\n",
       "      <td>0</td>\n",
       "      <td>34</td>\n",
       "    </tr>\n",
       "    <tr>\n",
       "      <th>1</th>\n",
       "      <td>Male</td>\n",
       "      <td>[Outdoors, Netflix, Comedy, Hiking]</td>\n",
       "      <td>NaN</td>\n",
       "      <td>0</td>\n",
       "      <td>0</td>\n",
       "    </tr>\n",
       "    <tr>\n",
       "      <th>2</th>\n",
       "      <td>Male</td>\n",
       "      <td>[Movies, Tattoos, Working out, Music, Sports]</td>\n",
       "      <td>NaN</td>\n",
       "      <td>3</td>\n",
       "      <td>0</td>\n",
       "    </tr>\n",
       "    <tr>\n",
       "      <th>3</th>\n",
       "      <td>Male</td>\n",
       "      <td>[Travel, Music, Working out]</td>\n",
       "      <td>Hip Hop/Rap</td>\n",
       "      <td>0</td>\n",
       "      <td>112</td>\n",
       "    </tr>\n",
       "    <tr>\n",
       "      <th>4</th>\n",
       "      <td>Male</td>\n",
       "      <td>[Coffee]</td>\n",
       "      <td>NaN</td>\n",
       "      <td>0</td>\n",
       "      <td>0</td>\n",
       "    </tr>\n",
       "  </tbody>\n",
       "</table>\n",
       "</div>"
      ],
      "text/plain": [
       "  gender                                      interests       anthem  \\\n",
       "0   Male                                  [Working out]          NaN   \n",
       "1   Male            [Outdoors, Netflix, Comedy, Hiking]          NaN   \n",
       "2   Male  [Movies, Tattoos, Working out, Music, Sports]          NaN   \n",
       "3   Male                   [Travel, Music, Working out]  Hip Hop/Rap   \n",
       "4   Male                                       [Coffee]          NaN   \n",
       "\n",
       "   prompts_replied  bio_length  \n",
       "0                0          34  \n",
       "1                0           0  \n",
       "2                3           0  \n",
       "3                0         112  \n",
       "4                0           0  "
      ]
     },
     "execution_count": 3,
     "metadata": {},
     "output_type": "execute_result"
    }
   ],
   "source": [
    "males = pd.read_json('males.json')\n",
    "\n",
    "# https://stackoverflow.com/questions/62343093/remove-empty-string-from-a-list-of-strings\n",
    "males['prompts_replied'] = [len(list(filter(None, sublist))) for sublist in males['prompts']]\n",
    "\n",
    "# we want to change the '0' to 'Male' for easier and cleaner data\n",
    "males['gender'] = 'Male'\n",
    "\n",
    "# we don't care about the actual bio itself for this research, we just want to know how long it is, so we're going to take the length and drop it\n",
    "males['bio_length'] = males['bio'].str.split('').str.len()\n",
    "males['bio_length'] = males['bio_length'].replace('', 0).astype('int') - 2\n",
    "\n",
    "# now that we have what we needed we drop for abstraction. for handling this data in python, we never needed the id column, so we drop it too\n",
    "males = males.drop(['id', 'prompts', 'bio'], 1)\n",
    "\n",
    "# and now we want to make sure that all prompts not filled out get replaced with NaN\n",
    "males = males.replace('',np.nan)\n",
    "\n",
    "males.head()"
   ]
  },
  {
   "cell_type": "markdown",
   "metadata": {},
   "source": [
    "### Combining both dataframes, and further cleaning"
   ]
  },
  {
   "cell_type": "code",
   "execution_count": 4,
   "metadata": {},
   "outputs": [
    {
     "data": {
      "text/html": [
       "<div>\n",
       "<style scoped>\n",
       "    .dataframe tbody tr th:only-of-type {\n",
       "        vertical-align: middle;\n",
       "    }\n",
       "\n",
       "    .dataframe tbody tr th {\n",
       "        vertical-align: top;\n",
       "    }\n",
       "\n",
       "    .dataframe thead th {\n",
       "        text-align: right;\n",
       "    }\n",
       "</style>\n",
       "<table border=\"1\" class=\"dataframe\">\n",
       "  <thead>\n",
       "    <tr style=\"text-align: right;\">\n",
       "      <th></th>\n",
       "      <th>gender</th>\n",
       "      <th>interests</th>\n",
       "      <th>anthem</th>\n",
       "      <th>prompts_replied</th>\n",
       "      <th>bio_length</th>\n",
       "      <th>num_interests</th>\n",
       "    </tr>\n",
       "  </thead>\n",
       "  <tbody>\n",
       "    <tr>\n",
       "      <th>0</th>\n",
       "      <td>Female</td>\n",
       "      <td>[Coffee, Activism, Foodie, Music, Movies]</td>\n",
       "      <td>NaN</td>\n",
       "      <td>0</td>\n",
       "      <td>25</td>\n",
       "      <td>5</td>\n",
       "    </tr>\n",
       "    <tr>\n",
       "      <th>1</th>\n",
       "      <td>Female</td>\n",
       "      <td>[Fashion, Karaoke, Museum, Brunch, Volunteering]</td>\n",
       "      <td>Hip Hop/Rap</td>\n",
       "      <td>1</td>\n",
       "      <td>58</td>\n",
       "      <td>5</td>\n",
       "    </tr>\n",
       "    <tr>\n",
       "      <th>2</th>\n",
       "      <td>Female</td>\n",
       "      <td>[Foodie, Music, Karaoke, Dog lover, Comedy]</td>\n",
       "      <td>Hip Hop/Rap</td>\n",
       "      <td>3</td>\n",
       "      <td>61</td>\n",
       "      <td>5</td>\n",
       "    </tr>\n",
       "    <tr>\n",
       "      <th>3</th>\n",
       "      <td>Female</td>\n",
       "      <td>[Foodie, Tattoos, Sports, Astrology, Spiritual...</td>\n",
       "      <td>Indie</td>\n",
       "      <td>0</td>\n",
       "      <td>73</td>\n",
       "      <td>5</td>\n",
       "    </tr>\n",
       "    <tr>\n",
       "      <th>4</th>\n",
       "      <td>Female</td>\n",
       "      <td>[Photography, Black Lives Matter, Movies, Musi...</td>\n",
       "      <td>Pop</td>\n",
       "      <td>2</td>\n",
       "      <td>110</td>\n",
       "      <td>5</td>\n",
       "    </tr>\n",
       "  </tbody>\n",
       "</table>\n",
       "</div>"
      ],
      "text/plain": [
       "   gender                                          interests       anthem  \\\n",
       "0  Female          [Coffee, Activism, Foodie, Music, Movies]          NaN   \n",
       "1  Female   [Fashion, Karaoke, Museum, Brunch, Volunteering]  Hip Hop/Rap   \n",
       "2  Female        [Foodie, Music, Karaoke, Dog lover, Comedy]  Hip Hop/Rap   \n",
       "3  Female  [Foodie, Tattoos, Sports, Astrology, Spiritual...        Indie   \n",
       "4  Female  [Photography, Black Lives Matter, Movies, Musi...          Pop   \n",
       "\n",
       "   prompts_replied  bio_length  num_interests  \n",
       "0                0          25              5  \n",
       "1                1          58              5  \n",
       "2                3          61              5  \n",
       "3                0          73              5  \n",
       "4                2         110              5  "
      ]
     },
     "execution_count": 4,
     "metadata": {},
     "output_type": "execute_result"
    }
   ],
   "source": [
    "# joining male and female datasets\n",
    "profiles = females.append(males)\n",
    "\n",
    "# now that we have both datasets joined, we want to take the length of the interests sublist and make that its own column\n",
    "profiles['num_interests'] = profiles['interests'].str.len()\n",
    "profiles['num_interests'] = profiles['num_interests'].replace(np.nan, 0)\n",
    "profiles['num_interests'] = profiles['num_interests'].astype('int')\n",
    "\n",
    "profiles.head()"
   ]
  },
  {
   "cell_type": "markdown",
   "metadata": {},
   "source": [
    "We ultimately chose to clean both male and female datasets seperately and then join them afterwards because when we realized that our data was already naturally faceted by gender, it was a lot easier for us to make conclusions based on the datasets seperately, as well as with them merged together as well. "
   ]
  },
  {
   "cell_type": "markdown",
   "metadata": {},
   "source": [
    "## Ascertaining information about most common interests"
   ]
  },
  {
   "cell_type": "markdown",
   "metadata": {},
   "source": [
    "One of the first questions we had when looking at the data was; what are the most popular interests among males, females, and our dataframe with both combined?"
   ]
  },
  {
   "cell_type": "code",
   "execution_count": 5,
   "metadata": {},
   "outputs": [],
   "source": [
    "from collections import Counter\n",
    "\n",
    "def getMostCommonInterest(df):\n",
    "    '''finding the most common interest for both genders'''\n",
    "    interests = []\n",
    "    for profile_interest_list in df.interests:\n",
    "        interests += profile_interest_list\n",
    "    c = Counter(interests)\n",
    "    return c.most_common(5)\n",
    "\n",
    "def generatePie(df):\n",
    "    '''reusing code to plot a pie chart with a given dataframe and burst tuple for effects'''\n",
    "    plot = getMostCommonInterest(df)\n",
    "    ndf = pd.DataFrame(plot, columns=['Interest', 'Frequency'])\n",
    "\n",
    "    plt.pie(ndf['Frequency'],labels=ndf['Interest'], explode=(0.1, 0, 0, 0, 0), shadow=True, autopct='%1.1f%%', startangle=90)\n",
    "    plt.axis('equal')\n",
    "    plt.show()\n"
   ]
  },
  {
   "cell_type": "markdown",
   "metadata": {},
   "source": [
    "### Plotting top 5 most common interests among female profiles"
   ]
  },
  {
   "cell_type": "code",
   "execution_count": 6,
   "metadata": {},
   "outputs": [
    {
     "data": {
      "image/png": "[encoded data removed]",
      "text/plain": [
       "<Figure size 432x288 with 1 Axes>"
      ]
     },
     "metadata": {},
     "output_type": "display_data"
    }
   ],
   "source": [
    "generatePie(females)\n"
   ]
  },
  {
   "cell_type": "markdown",
   "metadata": {},
   "source": [
    "We see that `music` takes a commanding chunk for first place of the top 5 here for the females."
   ]
  },
  {
   "cell_type": "markdown",
   "metadata": {},
   "source": [
    "### Plotting top 5 most common interests among male profiles"
   ]
  },
  {
   "cell_type": "code",
   "execution_count": 7,
   "metadata": {},
   "outputs": [
    {
     "data": {
      "image/png": "[encoded data removed]",
      "text/plain": [
       "<Figure size 432x288 with 1 Axes>"
      ]
     },
     "metadata": {},
     "output_type": "display_data"
    }
   ],
   "source": [
    "generatePie(males)"
   ]
  },
  {
   "cell_type": "markdown",
   "metadata": {},
   "source": [
    "For males, the race was a bit closer but ultimately `sports` takes first place here."
   ]
  },
  {
   "cell_type": "markdown",
   "metadata": {},
   "source": [
    "### Plotting top 5 most common interests among all profiles"
   ]
  },
  {
   "cell_type": "code",
   "execution_count": 8,
   "metadata": {},
   "outputs": [
    {
     "data": {
      "image/png": "[encoded data removed]",
      "text/plain": [
       "<Figure size 432x288 with 1 Axes>"
      ]
     },
     "metadata": {},
     "output_type": "display_data"
    }
   ],
   "source": [
    "generatePie(profiles)"
   ]
  },
  {
   "cell_type": "markdown",
   "metadata": {},
   "source": [
    "And for both combined, the race was also close, but since `music` was high on both, it makes sense for this to be the most common interest among both male and female profiles."
   ]
  },
  {
   "cell_type": "code",
   "execution_count": 9,
   "metadata": {},
   "outputs": [],
   "source": [
    "# we don't need these anymore\n",
    "profiles = profiles.drop(['interests'], 1)"
   ]
  },
  {
   "cell_type": "markdown",
   "metadata": {},
   "source": [
    "Now, we are going to abstract this `interests` column out because we don't need it anymore, and also because it looked a bit messy."
   ]
  },
  {
   "cell_type": "markdown",
   "metadata": {},
   "source": [
    "## Ascertaining information about those who chose to fill out the optional prompts"
   ]
  },
  {
   "cell_type": "markdown",
   "metadata": {},
   "source": [
    "Our next curiousity was about the optional prompts that Tinder lets users fill out:\n",
    "- What's your astrological sign?\n",
    "- Do you have any pets?\n",
    "- Are you a smoker?\n",
    "\n",
    "We wanted to see how many profiles actually filled these out, because they're optional after all, and we were curious to see how many people tried to take the extra mile with their profiles."
   ]
  },
  {
   "cell_type": "markdown",
   "metadata": {},
   "source": [
    "### Plotting for the `males` dataset"
   ]
  },
  {
   "cell_type": "code",
   "execution_count": 10,
   "metadata": {},
   "outputs": [
    {
     "data": {
      "text/plain": [
       "<AxesSubplot:title={'center':'Male profiles vs optional prompts'}, xlabel='Prompts filled out', ylabel='Profiles'>"
      ]
     },
     "execution_count": 10,
     "metadata": {},
     "output_type": "execute_result"
    },
    {
     "data": {
      "image/png": "[encoded data removed]",
      "text/plain": [
       "<Figure size 432x288 with 1 Axes>"
      ]
     },
     "metadata": {
      "needs_background": "light"
     },
     "output_type": "display_data"
    }
   ],
   "source": [
    "plt.title('Male profiles vs optional prompts')\n",
    "plt.xlabel('Prompts filled out')\n",
    "plt.ylabel('Profiles')\n",
    "males['prompts_replied'].value_counts().plot(kind='bar')"
   ]
  },
  {
   "cell_type": "markdown",
   "metadata": {},
   "source": [
    "A commanding amount of males ignored every question here completely, but filling them all out came in second."
   ]
  },
  {
   "cell_type": "markdown",
   "metadata": {},
   "source": [
    "### Plotting for the `females` dataset"
   ]
  },
  {
   "cell_type": "code",
   "execution_count": 11,
   "metadata": {},
   "outputs": [
    {
     "data": {
      "text/plain": [
       "<AxesSubplot:title={'center':'Female profiles vs optional prompts'}, xlabel='Prompts filled out', ylabel='Profiles'>"
      ]
     },
     "execution_count": 11,
     "metadata": {},
     "output_type": "execute_result"
    },
    {
     "data": {
      "image/png": "[encoded data removed]",
      "text/plain": [
       "<Figure size 432x288 with 1 Axes>"
      ]
     },
     "metadata": {
      "needs_background": "light"
     },
     "output_type": "display_data"
    }
   ],
   "source": [
    "plt.title('Female profiles vs optional prompts')\n",
    "plt.xlabel('Prompts filled out')\n",
    "plt.ylabel('Profiles')\n",
    "females['prompts_replied'].value_counts().plot(kind='bar')"
   ]
  },
  {
   "cell_type": "markdown",
   "metadata": {},
   "source": [
    "A commanding amount of females also ignored every question here completely, but the race was closer between the other answers actually being filled out."
   ]
  },
  {
   "cell_type": "markdown",
   "metadata": {},
   "source": [
    "### Plotting for the general mixed `profiles` dataset"
   ]
  },
  {
   "cell_type": "code",
   "execution_count": 12,
   "metadata": {},
   "outputs": [
    {
     "data": {
      "text/plain": [
       "<AxesSubplot:title={'center':'All profiles vs optional prompts'}, xlabel='Prompts filled out', ylabel='Profiles'>"
      ]
     },
     "execution_count": 12,
     "metadata": {},
     "output_type": "execute_result"
    },
    {
     "data": {
      "image/png": "[encoded data removed]",
      "text/plain": [
       "<Figure size 432x288 with 1 Axes>"
      ]
     },
     "metadata": {
      "needs_background": "light"
     },
     "output_type": "display_data"
    }
   ],
   "source": [
    "plt.title('All profiles vs optional prompts')\n",
    "plt.xlabel('Prompts filled out')\n",
    "plt.ylabel('Profiles')\n",
    "profiles['prompts_replied'].value_counts().plot(kind='bar')"
   ]
  },
  {
   "cell_type": "markdown",
   "metadata": {},
   "source": [
    "Ultimately, it seems like Tinder might need to get some new optional prompt questions, because our profiles here didn't seem to be keen on answering these at all."
   ]
  },
  {
   "cell_type": "markdown",
   "metadata": {},
   "source": [
    "## Ascertaining information about bio length"
   ]
  },
  {
   "cell_type": "markdown",
   "metadata": {},
   "source": [
    "Next up, we wanted to see about the profiles `bio`. Being able to describe yourself with a bio on a dating app is crucial, and we wanted to see how many characters our profiles thought they needed to say what they needed to say about themselves. For This, we don't care about the profiles that didn't enter a bio; they will be a whole different sub-section. Here, we just want to observe information on all profiles that **did** fill out a bio."
   ]
  },
  {
   "cell_type": "markdown",
   "metadata": {},
   "source": [
    "### The average bio length for a female profile based on our dataframe"
   ]
  },
  {
   "cell_type": "code",
   "execution_count": 13,
   "metadata": {},
   "outputs": [
    {
     "data": {
      "text/plain": [
       "66.2051282051282"
      ]
     },
     "execution_count": 13,
     "metadata": {},
     "output_type": "execute_result"
    }
   ],
   "source": [
    "females[females['bio_length'] > 0].mean()[1]"
   ]
  },
  {
   "cell_type": "markdown",
   "metadata": {},
   "source": [
    "### The average bio length for a male profile based on our dataframe"
   ]
  },
  {
   "cell_type": "code",
   "execution_count": 14,
   "metadata": {},
   "outputs": [
    {
     "data": {
      "text/plain": [
       "77.54838709677419"
      ]
     },
     "execution_count": 14,
     "metadata": {},
     "output_type": "execute_result"
    }
   ],
   "source": [
    "males[males['bio_length'] > 0].mean()[1]"
   ]
  },
  {
   "cell_type": "markdown",
   "metadata": {},
   "source": [
    "### The average bio length for any profile based on our dataframe"
   ]
  },
  {
   "cell_type": "code",
   "execution_count": 15,
   "metadata": {},
   "outputs": [
    {
     "data": {
      "text/plain": [
       "71.22857142857143"
      ]
     },
     "execution_count": 15,
     "metadata": {},
     "output_type": "execute_result"
    }
   ],
   "source": [
    "profiles[profiles['bio_length'] > 0].mean()[1]"
   ]
  },
  {
   "cell_type": "markdown",
   "metadata": {},
   "source": [
    "Overall, this race is closer than we expected. We were anticipating a bigger discrepancy between male and female profiles, with female profiles going the extra mile to make their bios stand out. This hypothesis ended up **not** being correct, and actually showed that male profiles that actually filled out their bio were expected to have 11 characters more, on everage."
   ]
  },
  {
   "cell_type": "markdown",
   "metadata": {},
   "source": [
    "### Outliers (i): - largest bio length in the collection -"
   ]
  },
  {
   "cell_type": "code",
   "execution_count": 16,
   "metadata": {},
   "outputs": [
    {
     "data": {
      "text/plain": [
       "328"
      ]
     },
     "execution_count": 16,
     "metadata": {},
     "output_type": "execute_result"
    }
   ],
   "source": [
    "# get largest bio length\n",
    "profiles.bio_length.max()"
   ]
  },
  {
   "cell_type": "markdown",
   "metadata": {},
   "source": [
    "This sounds like a large number, but we have nothing to base it on unless we dive deeper."
   ]
  },
  {
   "cell_type": "markdown",
   "metadata": {},
   "source": [
    "#### Outliers (i): - Who is our outlier? -"
   ]
  },
  {
   "cell_type": "code",
   "execution_count": 17,
   "metadata": {},
   "outputs": [
    {
     "data": {
      "text/html": [
       "<div>\n",
       "<style scoped>\n",
       "    .dataframe tbody tr th:only-of-type {\n",
       "        vertical-align: middle;\n",
       "    }\n",
       "\n",
       "    .dataframe tbody tr th {\n",
       "        vertical-align: top;\n",
       "    }\n",
       "\n",
       "    .dataframe thead th {\n",
       "        text-align: right;\n",
       "    }\n",
       "</style>\n",
       "<table border=\"1\" class=\"dataframe\">\n",
       "  <thead>\n",
       "    <tr style=\"text-align: right;\">\n",
       "      <th></th>\n",
       "      <th>gender</th>\n",
       "      <th>anthem</th>\n",
       "      <th>prompts_replied</th>\n",
       "      <th>bio_length</th>\n",
       "      <th>num_interests</th>\n",
       "    </tr>\n",
       "  </thead>\n",
       "  <tbody>\n",
       "    <tr>\n",
       "      <th>48</th>\n",
       "      <td>Male</td>\n",
       "      <td>Country</td>\n",
       "      <td>2</td>\n",
       "      <td>328</td>\n",
       "      <td>5</td>\n",
       "    </tr>\n",
       "  </tbody>\n",
       "</table>\n",
       "</div>"
      ],
      "text/plain": [
       "   gender   anthem  prompts_replied  bio_length  num_interests\n",
       "48   Male  Country                2         328              5"
      ]
     },
     "execution_count": 17,
     "metadata": {},
     "output_type": "execute_result"
    }
   ],
   "source": [
    "profiles[profiles.bio_length == profiles.bio_length.max()]"
   ]
  },
  {
   "cell_type": "markdown",
   "metadata": {},
   "source": [
    "It surprised us as well to see that the holder of the largest profile in our dataset here was in fact a male."
   ]
  },
  {
   "cell_type": "markdown",
   "metadata": {},
   "source": [
    "#### Outliers (i): - smallest bio length in the collection -"
   ]
  },
  {
   "cell_type": "code",
   "execution_count": 18,
   "metadata": {},
   "outputs": [
    {
     "data": {
      "text/plain": [
       "0"
      ]
     },
     "execution_count": 18,
     "metadata": {},
     "output_type": "execute_result"
    }
   ],
   "source": [
    "# get smallest bio length\n",
    "profiles.bio_length.min()"
   ]
  },
  {
   "cell_type": "markdown",
   "metadata": {},
   "source": [
    "This was expected, as many profiles have empty bios. We want to see who has the shortest bio that actually **filled one out**, but we'll get back to that in a second. Because for us to find that out, we need to take a dive into the empty bios first."
   ]
  },
  {
   "cell_type": "markdown",
   "metadata": {},
   "source": [
    "#### Outliers (ii): - Looking at our empty bios -"
   ]
  },
  {
   "cell_type": "markdown",
   "metadata": {},
   "source": [
    "Well, we have had many profiles end up being 0, so we're going to go further into it and find out who is more likely to have an empty bio."
   ]
  },
  {
   "cell_type": "code",
   "execution_count": 19,
   "metadata": {},
   "outputs": [
    {
     "data": {
      "text/html": [
       "<div>\n",
       "<style scoped>\n",
       "    .dataframe tbody tr th:only-of-type {\n",
       "        vertical-align: middle;\n",
       "    }\n",
       "\n",
       "    .dataframe tbody tr th {\n",
       "        vertical-align: top;\n",
       "    }\n",
       "\n",
       "    .dataframe thead th {\n",
       "        text-align: right;\n",
       "    }\n",
       "</style>\n",
       "<table border=\"1\" class=\"dataframe\">\n",
       "  <thead>\n",
       "    <tr style=\"text-align: right;\">\n",
       "      <th></th>\n",
       "      <th>gender</th>\n",
       "      <th>anthem</th>\n",
       "      <th>prompts_replied</th>\n",
       "      <th>bio_length</th>\n",
       "      <th>num_interests</th>\n",
       "    </tr>\n",
       "  </thead>\n",
       "  <tbody>\n",
       "    <tr>\n",
       "      <th>7</th>\n",
       "      <td>Female</td>\n",
       "      <td>Indie</td>\n",
       "      <td>0</td>\n",
       "      <td>0</td>\n",
       "      <td>5</td>\n",
       "    </tr>\n",
       "    <tr>\n",
       "      <th>11</th>\n",
       "      <td>Female</td>\n",
       "      <td>Pop</td>\n",
       "      <td>3</td>\n",
       "      <td>0</td>\n",
       "      <td>5</td>\n",
       "    </tr>\n",
       "    <tr>\n",
       "      <th>16</th>\n",
       "      <td>Female</td>\n",
       "      <td>NaN</td>\n",
       "      <td>0</td>\n",
       "      <td>0</td>\n",
       "      <td>5</td>\n",
       "    </tr>\n",
       "    <tr>\n",
       "      <th>20</th>\n",
       "      <td>Female</td>\n",
       "      <td>Pop</td>\n",
       "      <td>0</td>\n",
       "      <td>0</td>\n",
       "      <td>5</td>\n",
       "    </tr>\n",
       "    <tr>\n",
       "      <th>23</th>\n",
       "      <td>Female</td>\n",
       "      <td>NaN</td>\n",
       "      <td>1</td>\n",
       "      <td>0</td>\n",
       "      <td>5</td>\n",
       "    </tr>\n",
       "    <tr>\n",
       "      <th>26</th>\n",
       "      <td>Female</td>\n",
       "      <td>R&amp;B</td>\n",
       "      <td>0</td>\n",
       "      <td>0</td>\n",
       "      <td>0</td>\n",
       "    </tr>\n",
       "    <tr>\n",
       "      <th>28</th>\n",
       "      <td>Female</td>\n",
       "      <td>NaN</td>\n",
       "      <td>0</td>\n",
       "      <td>0</td>\n",
       "      <td>3</td>\n",
       "    </tr>\n",
       "    <tr>\n",
       "      <th>31</th>\n",
       "      <td>Female</td>\n",
       "      <td>NaN</td>\n",
       "      <td>1</td>\n",
       "      <td>0</td>\n",
       "      <td>1</td>\n",
       "    </tr>\n",
       "    <tr>\n",
       "      <th>35</th>\n",
       "      <td>Female</td>\n",
       "      <td>Hip Hop/Rap</td>\n",
       "      <td>0</td>\n",
       "      <td>0</td>\n",
       "      <td>5</td>\n",
       "    </tr>\n",
       "    <tr>\n",
       "      <th>39</th>\n",
       "      <td>Female</td>\n",
       "      <td>Indie</td>\n",
       "      <td>0</td>\n",
       "      <td>0</td>\n",
       "      <td>3</td>\n",
       "    </tr>\n",
       "    <tr>\n",
       "      <th>49</th>\n",
       "      <td>Female</td>\n",
       "      <td>Country</td>\n",
       "      <td>0</td>\n",
       "      <td>0</td>\n",
       "      <td>4</td>\n",
       "    </tr>\n",
       "    <tr>\n",
       "      <th>1</th>\n",
       "      <td>Male</td>\n",
       "      <td>NaN</td>\n",
       "      <td>0</td>\n",
       "      <td>0</td>\n",
       "      <td>4</td>\n",
       "    </tr>\n",
       "    <tr>\n",
       "      <th>2</th>\n",
       "      <td>Male</td>\n",
       "      <td>NaN</td>\n",
       "      <td>3</td>\n",
       "      <td>0</td>\n",
       "      <td>5</td>\n",
       "    </tr>\n",
       "    <tr>\n",
       "      <th>4</th>\n",
       "      <td>Male</td>\n",
       "      <td>NaN</td>\n",
       "      <td>0</td>\n",
       "      <td>0</td>\n",
       "      <td>1</td>\n",
       "    </tr>\n",
       "    <tr>\n",
       "      <th>6</th>\n",
       "      <td>Male</td>\n",
       "      <td>NaN</td>\n",
       "      <td>0</td>\n",
       "      <td>0</td>\n",
       "      <td>0</td>\n",
       "    </tr>\n",
       "    <tr>\n",
       "      <th>7</th>\n",
       "      <td>Male</td>\n",
       "      <td>NaN</td>\n",
       "      <td>0</td>\n",
       "      <td>0</td>\n",
       "      <td>0</td>\n",
       "    </tr>\n",
       "    <tr>\n",
       "      <th>8</th>\n",
       "      <td>Male</td>\n",
       "      <td>NaN</td>\n",
       "      <td>0</td>\n",
       "      <td>0</td>\n",
       "      <td>2</td>\n",
       "    </tr>\n",
       "    <tr>\n",
       "      <th>17</th>\n",
       "      <td>Male</td>\n",
       "      <td>Indie</td>\n",
       "      <td>2</td>\n",
       "      <td>0</td>\n",
       "      <td>3</td>\n",
       "    </tr>\n",
       "    <tr>\n",
       "      <th>24</th>\n",
       "      <td>Male</td>\n",
       "      <td>Indie</td>\n",
       "      <td>0</td>\n",
       "      <td>0</td>\n",
       "      <td>5</td>\n",
       "    </tr>\n",
       "    <tr>\n",
       "      <th>26</th>\n",
       "      <td>Male</td>\n",
       "      <td>NaN</td>\n",
       "      <td>1</td>\n",
       "      <td>0</td>\n",
       "      <td>1</td>\n",
       "    </tr>\n",
       "    <tr>\n",
       "      <th>28</th>\n",
       "      <td>Male</td>\n",
       "      <td>Pop</td>\n",
       "      <td>0</td>\n",
       "      <td>0</td>\n",
       "      <td>0</td>\n",
       "    </tr>\n",
       "    <tr>\n",
       "      <th>29</th>\n",
       "      <td>Male</td>\n",
       "      <td>Country</td>\n",
       "      <td>0</td>\n",
       "      <td>0</td>\n",
       "      <td>3</td>\n",
       "    </tr>\n",
       "    <tr>\n",
       "      <th>31</th>\n",
       "      <td>Male</td>\n",
       "      <td>NaN</td>\n",
       "      <td>0</td>\n",
       "      <td>0</td>\n",
       "      <td>5</td>\n",
       "    </tr>\n",
       "    <tr>\n",
       "      <th>36</th>\n",
       "      <td>Male</td>\n",
       "      <td>NaN</td>\n",
       "      <td>0</td>\n",
       "      <td>0</td>\n",
       "      <td>1</td>\n",
       "    </tr>\n",
       "    <tr>\n",
       "      <th>38</th>\n",
       "      <td>Male</td>\n",
       "      <td>NaN</td>\n",
       "      <td>0</td>\n",
       "      <td>0</td>\n",
       "      <td>5</td>\n",
       "    </tr>\n",
       "    <tr>\n",
       "      <th>40</th>\n",
       "      <td>Male</td>\n",
       "      <td>Country</td>\n",
       "      <td>0</td>\n",
       "      <td>0</td>\n",
       "      <td>0</td>\n",
       "    </tr>\n",
       "    <tr>\n",
       "      <th>41</th>\n",
       "      <td>Male</td>\n",
       "      <td>Indie</td>\n",
       "      <td>0</td>\n",
       "      <td>0</td>\n",
       "      <td>4</td>\n",
       "    </tr>\n",
       "    <tr>\n",
       "      <th>43</th>\n",
       "      <td>Male</td>\n",
       "      <td>Country</td>\n",
       "      <td>0</td>\n",
       "      <td>0</td>\n",
       "      <td>5</td>\n",
       "    </tr>\n",
       "    <tr>\n",
       "      <th>45</th>\n",
       "      <td>Male</td>\n",
       "      <td>NaN</td>\n",
       "      <td>0</td>\n",
       "      <td>0</td>\n",
       "      <td>3</td>\n",
       "    </tr>\n",
       "    <tr>\n",
       "      <th>46</th>\n",
       "      <td>Male</td>\n",
       "      <td>NaN</td>\n",
       "      <td>3</td>\n",
       "      <td>0</td>\n",
       "      <td>5</td>\n",
       "    </tr>\n",
       "  </tbody>\n",
       "</table>\n",
       "</div>"
      ],
      "text/plain": [
       "    gender       anthem  prompts_replied  bio_length  num_interests\n",
       "7   Female        Indie                0           0              5\n",
       "11  Female          Pop                3           0              5\n",
       "16  Female          NaN                0           0              5\n",
       "20  Female          Pop                0           0              5\n",
       "23  Female          NaN                1           0              5\n",
       "26  Female          R&B                0           0              0\n",
       "28  Female          NaN                0           0              3\n",
       "31  Female          NaN                1           0              1\n",
       "35  Female  Hip Hop/Rap                0           0              5\n",
       "39  Female        Indie                0           0              3\n",
       "49  Female      Country                0           0              4\n",
       "1     Male          NaN                0           0              4\n",
       "2     Male          NaN                3           0              5\n",
       "4     Male          NaN                0           0              1\n",
       "6     Male          NaN                0           0              0\n",
       "7     Male          NaN                0           0              0\n",
       "8     Male          NaN                0           0              2\n",
       "17    Male        Indie                2           0              3\n",
       "24    Male        Indie                0           0              5\n",
       "26    Male          NaN                1           0              1\n",
       "28    Male          Pop                0           0              0\n",
       "29    Male      Country                0           0              3\n",
       "31    Male          NaN                0           0              5\n",
       "36    Male          NaN                0           0              1\n",
       "38    Male          NaN                0           0              5\n",
       "40    Male      Country                0           0              0\n",
       "41    Male        Indie                0           0              4\n",
       "43    Male      Country                0           0              5\n",
       "45    Male          NaN                0           0              3\n",
       "46    Male          NaN                3           0              5"
      ]
     },
     "execution_count": 19,
     "metadata": {},
     "output_type": "execute_result"
    }
   ],
   "source": [
    "profiles[profiles.bio_length == 0]"
   ]
  },
  {
   "cell_type": "markdown",
   "metadata": {},
   "source": [
    "As we can see, there are a lot of empty biographies here. Let's go further into this."
   ]
  },
  {
   "cell_type": "markdown",
   "metadata": {},
   "source": [
    "#### Outliers (ii): - How many males have empty bios? -"
   ]
  },
  {
   "cell_type": "code",
   "execution_count": 20,
   "metadata": {},
   "outputs": [
    {
     "data": {
      "text/plain": [
       "19"
      ]
     },
     "execution_count": 20,
     "metadata": {},
     "output_type": "execute_result"
    }
   ],
   "source": [
    "len(males[males.bio_length == 0])"
   ]
  },
  {
   "cell_type": "markdown",
   "metadata": {},
   "source": [
    "#### Outliers (ii): - How many females have empty bios? -"
   ]
  },
  {
   "cell_type": "code",
   "execution_count": 21,
   "metadata": {},
   "outputs": [
    {
     "data": {
      "text/plain": [
       "11"
      ]
     },
     "execution_count": 21,
     "metadata": {},
     "output_type": "execute_result"
    }
   ],
   "source": [
    "len(females[females.bio_length == 0])"
   ]
  },
  {
   "cell_type": "markdown",
   "metadata": {},
   "source": [
    "Therefore, we have 30/100 of these profiles that did not provide a bio, with 19/50 males, and 11/50 females not providing. Meaning that in our sample size, males are 16% less likely to include a bio than females."
   ]
  },
  {
   "cell_type": "markdown",
   "metadata": {},
   "source": [
    "#### Outliers (iii): - Back to the **real** shortest bio -"
   ]
  },
  {
   "cell_type": "markdown",
   "metadata": {},
   "source": [
    "We know now that to find this, we need to find the index of the **31st** shortest bio to find the true shortest bio."
   ]
  },
  {
   "cell_type": "code",
   "execution_count": 22,
   "metadata": {},
   "outputs": [
    {
     "data": {
      "text/plain": [
       "3"
      ]
     },
     "execution_count": 22,
     "metadata": {},
     "output_type": "execute_result"
    }
   ],
   "source": [
    "profiles.bio_length.nsmallest(31).iloc[-1]"
   ]
  },
  {
   "cell_type": "markdown",
   "metadata": {},
   "source": [
    "That's more along the lines of what we were expecting."
   ]
  },
  {
   "cell_type": "code",
   "execution_count": 23,
   "metadata": {},
   "outputs": [
    {
     "data": {
      "text/html": [
       "<div>\n",
       "<style scoped>\n",
       "    .dataframe tbody tr th:only-of-type {\n",
       "        vertical-align: middle;\n",
       "    }\n",
       "\n",
       "    .dataframe tbody tr th {\n",
       "        vertical-align: top;\n",
       "    }\n",
       "\n",
       "    .dataframe thead th {\n",
       "        text-align: right;\n",
       "    }\n",
       "</style>\n",
       "<table border=\"1\" class=\"dataframe\">\n",
       "  <thead>\n",
       "    <tr style=\"text-align: right;\">\n",
       "      <th></th>\n",
       "      <th>gender</th>\n",
       "      <th>anthem</th>\n",
       "      <th>prompts_replied</th>\n",
       "      <th>bio_length</th>\n",
       "      <th>num_interests</th>\n",
       "    </tr>\n",
       "  </thead>\n",
       "  <tbody>\n",
       "    <tr>\n",
       "      <th>42</th>\n",
       "      <td>Male</td>\n",
       "      <td>Hip Hop/Rap</td>\n",
       "      <td>0</td>\n",
       "      <td>3</td>\n",
       "      <td>3</td>\n",
       "    </tr>\n",
       "  </tbody>\n",
       "</table>\n",
       "</div>"
      ],
      "text/plain": [
       "   gender       anthem  prompts_replied  bio_length  num_interests\n",
       "42   Male  Hip Hop/Rap                0           3              3"
      ]
     },
     "execution_count": 23,
     "metadata": {},
     "output_type": "execute_result"
    }
   ],
   "source": [
    "profiles[profiles.bio_length == 3]"
   ]
  },
  {
   "cell_type": "markdown",
   "metadata": {},
   "source": [
    "And for good measure, there's our guy."
   ]
  },
  {
   "cell_type": "markdown",
   "metadata": {},
   "source": [
    "#### Outliers (iv): - Let's take a look at all bio lengths -"
   ]
  },
  {
   "cell_type": "code",
   "execution_count": 41,
   "metadata": {},
   "outputs": [
    {
     "data": {
      "text/plain": [
       "<matplotlib.legend.Legend at 0x7fc1489c18e0>"
      ]
     },
     "execution_count": 41,
     "metadata": {},
     "output_type": "execute_result"
    },
    {
     "data": {
      "image/png": "[encoded data removed]",
      "text/plain": [
       "<Figure size 432x288 with 1 Axes>"
      ]
     },
     "metadata": {
      "needs_background": "light"
     },
     "output_type": "display_data"
    }
   ],
   "source": [
    "y=list(range(len(profiles.index)))\n",
    "colors = {'Male': 'blue', 'Female': 'red'}\n",
    "\n",
    "plt.title('Bio length by gender')\n",
    "plt.xlabel('Profile ID')\n",
    "plt.ylabel('Bio length in characters')\n",
    "\n",
    "plt.scatter(x = males.index, y = males['bio_length'], c='blue', alpha=0.65, label='Male')\n",
    "plt.scatter(x = females.index, y = females['bio_length'], c='red', alpha=0.65, label='Female')\n",
    "plt.legend()"
   ]
  },
  {
   "cell_type": "markdown",
   "metadata": {},
   "source": [
    "By taking a look at the scatter, we see that only a few profiles seem to have bio lengths over 150; let's take a look at them."
   ]
  },
  {
   "cell_type": "markdown",
   "metadata": {},
   "source": [
    "#### Outliers (ii): - Revisiting outliers -"
   ]
  },
  {
   "cell_type": "code",
   "execution_count": null,
   "metadata": {},
   "outputs": [],
   "source": [
    "profiles[profiles['bio_length'] >= 150]"
   ]
  },
  {
   "cell_type": "markdown",
   "metadata": {},
   "source": [
    "Surprisingly, 4 of the largest bio lengths in the entire set are males, though females seem to usually have more characters in their bios as a whole."
   ]
  },
  {
   "cell_type": "markdown",
   "metadata": {},
   "source": [
    "## Ascertaining information about favorite genres"
   ]
  },
  {
   "cell_type": "markdown",
   "metadata": {},
   "source": [
    "Originally, we had this set up much different. Our JSON originally supplied us with the favorite song of the profile, but after doing some work with the data, we realized that there isn't really a story to tell with that information, given how small our dataset is in comparison to the amount of profiles that are on Tinder, we thought it wasn't a fair assessment, nor would it be compelling to share that maybe 3 profiles shared the same favorite song. So, we pivoted, and took their favorite song, and found the genre of it instead. So now, we'll be comparing favorite genres among male and female profiles instead."
   ]
  },
  {
   "cell_type": "code",
   "execution_count": null,
   "metadata": {},
   "outputs": [],
   "source": [
    "# we are reusing this code used earlier to generate a pie chart, but this time we're making it work a bit differently for favorite genres\n",
    "def generatePie2(df):\n",
    "    '''reusing code to plot a pie chart with a given dataframe and burst tuple for effects'''\n",
    "    plot = df.anthem.value_counts().head(3)\n",
    "    ndf = pd.DataFrame(plot)\n",
    "    ndf = ndf.reset_index()\n",
    "    ndf.columns = ['Genre', 'Frequency']\n",
    "\n",
    "    plt.pie(ndf['Frequency'],labels=ndf['Genre'], explode=(0.1, 0, 0), shadow=True, autopct='%1.1f%%', startangle=90)\n",
    "    plt.axis('equal')\n",
    "    plt.show()"
   ]
  },
  {
   "cell_type": "markdown",
   "metadata": {},
   "source": [
    "### Females favorite genre based on our dataset"
   ]
  },
  {
   "cell_type": "markdown",
   "metadata": {},
   "source": [
    "#### Plotting the top 3 female genres"
   ]
  },
  {
   "cell_type": "code",
   "execution_count": null,
   "metadata": {},
   "outputs": [],
   "source": [
    "generatePie2(females)"
   ]
  },
  {
   "cell_type": "markdown",
   "metadata": {},
   "source": [
    "Here, we can see that of the top 3 most popular genres for the females, the `Pop` genre is the most popular by a rather significant margin."
   ]
  },
  {
   "cell_type": "markdown",
   "metadata": {},
   "source": [
    "### Males favorite genre based on our dataset"
   ]
  },
  {
   "cell_type": "markdown",
   "metadata": {},
   "source": [
    "#### Plotting the top 3 male genres"
   ]
  },
  {
   "cell_type": "code",
   "execution_count": null,
   "metadata": {},
   "outputs": [],
   "source": [
    "generatePie2(males)"
   ]
  },
  {
   "cell_type": "markdown",
   "metadata": {},
   "source": [
    "For the males, we see that second and third place are a dead tie, and `Hip Hop/Rap` takes first place."
   ]
  },
  {
   "cell_type": "markdown",
   "metadata": {},
   "source": [
    "### All profiles favorite genre based on our dataset"
   ]
  },
  {
   "cell_type": "markdown",
   "metadata": {},
   "source": [
    "#### Plotting the top 3 genres for all profiles"
   ]
  },
  {
   "cell_type": "code",
   "execution_count": null,
   "metadata": {},
   "outputs": [],
   "source": [
    "generatePie2(profiles)"
   ]
  },
  {
   "cell_type": "markdown",
   "metadata": {},
   "source": [
    "In a very surprising and interesting twist, we actually have a tie between the three most common for both genders, as `Pop` and `Hip Hop/Rap` both have equal votes represented in the top 3."
   ]
  },
  {
   "cell_type": "markdown",
   "metadata": {},
   "source": [
    "## How many profiles had 'the perfect profile'?"
   ]
  },
  {
   "cell_type": "markdown",
   "metadata": {},
   "source": [
    "To conclude, we wanted to have a little fun. We've seen all the profiles with no bios, and no interests. What about the profiles that did everything perfectly? Now we are going to see how many profiles filled out every prompt, had a bio, gave an anthem, and had at least three interests."
   ]
  },
  {
   "cell_type": "code",
   "execution_count": null,
   "metadata": {},
   "outputs": [],
   "source": [
    "perfect_profiles = profiles[(profiles['bio_length'] > 0) & (profiles['num_interests'] >= 3) & (profiles['anthem'].notna()) & (profiles['prompts_replied'] == 3)]\n",
    "len(perfect_profiles)"
   ]
  },
  {
   "cell_type": "markdown",
   "metadata": {},
   "source": [
    "At the end of the day we can see now that only 13 out of our 100 profiles were 'perfect' by our definition. Let's see them:"
   ]
  },
  {
   "cell_type": "code",
   "execution_count": null,
   "metadata": {},
   "outputs": [],
   "source": [
    "perfect_profiles"
   ]
  }
 ],
 "metadata": {
  "interpreter": {
   "hash": "c18392c146bd784484e39f7af94bff286b134afb9d729dfdc73b3e33cf274326"
  },
  "kernelspec": {
   "display_name": "Python 3.9.7 ('base')",
   "language": "python",
   "name": "python3"
  },
  "language_info": {
   "codemirror_mode": {
    "name": "ipython",
    "version": 3
   },
   "file_extension": ".py",
   "mimetype": "text/x-python",
   "name": "python",
   "nbconvert_exporter": "python",
   "pygments_lexer": "ipython3",
   "version": "3.9.7"
  },
  "orig_nbformat": 4
 },
 "nbformat": 4,
 "nbformat_minor": 2
}
